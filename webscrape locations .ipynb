{
 "cells": [
  {
   "cell_type": "code",
   "execution_count": 93,
   "id": "2c010aec",
   "metadata": {},
   "outputs": [],
   "source": [
    "import numpy as np\n",
    "import pandas as pd\n",
    "\n",
    "# webscraping\n",
    "import json\n",
    "import urllib\n",
    "from bs4 import BeautifulSoup\n",
    "from urllib.request import urlopen"
   ]
  },
  {
   "cell_type": "code",
   "execution_count": 94,
   "id": "327db992",
   "metadata": {},
   "outputs": [],
   "source": [
    "website_us = \"https://waterservices.usgs.gov/nwis/site/?format=rdb&sites=\""
   ]
  },
  {
   "cell_type": "code",
   "execution_count": 95,
   "id": "9f2b0e9f",
   "metadata": {},
   "outputs": [],
   "source": [
    "end = \"&siteOutput=expanded&siteStatus=all\""
   ]
  },
  {
   "cell_type": "code",
   "execution_count": 96,
   "id": "20e60544",
   "metadata": {},
   "outputs": [],
   "source": [
    "ids =  [1312000,\n",
    "        1315500,\n",
    "        1318500,\n",
    "        1327750,\n",
    "        1328770,\n",
    "        1335754,\n",
    "        1335755,\n",
    "        1358000,\n",
    "        1359139,\n",
    "        1359165,\n",
    "        135980207,\n",
    "        1372043,\n",
    "        1372058,\n",
    "        1374019,\n",
    "        1376269,\n",
    "        1376307,\n",
    "        1376515,\n",
    "        1376520]\n"
   ]
  },
  {
   "cell_type": "code",
   "execution_count": 107,
   "id": "b37fc048",
   "metadata": {},
   "outputs": [],
   "source": [
    "coords_lst = []\n",
    "for i in ids:\n",
    "    site = website_us + f'0{i}' + end\n",
    "    page = urlopen(site)\n",
    "    html_bytes = page.read()\n",
    "    html = html_bytes.decode(\"utf-8\")\n",
    "    data = np.genfromtxt(BeautifulSoup(html[html.find(\"Project number\")+16:]))\n",
    "    new_data = data[~np.isnan(data)]\n",
    "    coords = new_data[3:5]\n",
    "    if coords[0] > 45:\n",
    "        coords = new_data[4:6]\n",
    "    coords_lst.append(coords)\n",
    "coords_lst = np.array(coords_lst)"
   ]
  },
  {
   "cell_type": "code",
   "execution_count": 109,
   "id": "ea36b033",
   "metadata": {},
   "outputs": [],
   "source": [
    "np.savetxt(\"station_number.txt\",coords_lst,delimiter=',',header='\"lat\",\"lon\"')"
   ]
  },
  {
   "cell_type": "raw",
   "id": "3feb701a",
   "metadata": {},
   "source": []
  }
 ],
 "metadata": {
  "kernelspec": {
   "display_name": "MUDEGEO",
   "language": "python",
   "name": "mudegeo"
  },
  "language_info": {
   "codemirror_mode": {
    "name": "ipython",
    "version": 3
   },
   "file_extension": ".py",
   "mimetype": "text/x-python",
   "name": "python",
   "nbconvert_exporter": "python",
   "pygments_lexer": "ipython3",
   "version": "3.9.13"
  }
 },
 "nbformat": 4,
 "nbformat_minor": 5
}
