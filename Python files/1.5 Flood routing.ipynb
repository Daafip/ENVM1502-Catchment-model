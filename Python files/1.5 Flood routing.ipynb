{
 "cells": [
  {
   "cell_type": "code",
   "execution_count": 92,
   "id": "62b7e6bb-0db7-45fb-989b-aafd0ba791fb",
   "metadata": {},
   "outputs": [],
   "source": [
    "import matplotlib.pyplot as plt\n",
    "import pandas as pd\n",
    "import numpy as np\n",
    "import warnings\n",
    "import datetime\n",
    "import math\n",
    "from scipy.optimize import root\n",
    "import glob\n",
    "import os"
   ]
  },
  {
   "cell_type": "code",
   "execution_count": 93,
   "id": "97c2c258-d8d9-4979-b1cb-244376e6192e",
   "metadata": {},
   "outputs": [],
   "source": [
    "def c0(x, dt, k):\n",
    "    return (-2 * x + (dt / k)) / (2 * (1 - x) + (dt / k))\n",
    "            \n",
    "def c1(x, dt, k):\n",
    "    return (2 * x + (dt / k)) / (2 * (1 - x) + (dt / k))\n",
    "\n",
    "def c2(x, dt, k):\n",
    "    return (2 * (1 - x) - (dt / k)) / (2 * (1 - x) + (dt / k))\n",
    "\n",
    "def combine(x, dt, k):\n",
    "    c_0, c_1, c_2 = c0(x, dt, k), c1(x, dt, k), c2(x, dt, k)\n",
    "    if math.isclose(c_0 + c_1 + c_2, 1):\n",
    "        return c_0, c_1, c_2\n",
    "    else:\n",
    "        raise warnings.warn(f\"Issue with coding: {c_0}, {c_1}, {c_2} = {c_0+ c_1 +c_2}\")\n",
    "    \n",
    "def prev_date(date, days=1):    \n",
    "    \"function to get prev timestep\"\n",
    "    subtracted_date = pd.to_datetime(date) - datetime.timedelta(days=days)\n",
    "    subtracted_date = subtracted_date.strftime(\"%Y-%m-%d\")\n",
    "    return subtracted_date"
   ]
  },
  {
   "cell_type": "code",
   "execution_count": 94,
   "id": "371c0294-36d5-4a9a-8596-64152a4304c8",
   "metadata": {},
   "outputs": [],
   "source": [
    "def obj(params, data, return_df=False):\n",
    "    x, k = params\n",
    "    df, dt = data[0], data[1]\n",
    "    c_0, c_1, c_2 = combine(x, dt, k)\n",
    "    \n",
    "    for i, date in enumerate(df.index):\n",
    "        if i == 0:\n",
    "            pass\n",
    "        else:\n",
    "            day_before = prev_date(date, days=dt)\n",
    "            if (day_before in df_up.index):\n",
    "                i1 = df.loc[day_before,\"I\"]  # inflow timestep before\n",
    "                o1 = df.loc[day_before, \"O\"] # outflow timestep before\n",
    "                i2 = df.loc[date, \"I\"]\n",
    "                o2 = c_0 * i2 + c_1 * i1 + c_2 * o1\n",
    "                df.loc[date, \"Qm\"] = o2\n",
    "                df.loc[date, \"RMSE\"] = (df.loc[date, \"Qm\"] - df.loc[date, \"O\"])**2\n",
    "            else:\n",
    "                break\n",
    "    RMSE_sum = np.sqrt(df[\"RMSE\"].sum())/ (len(df[\"RMSE\"].dropna()))\n",
    "    if return_df:\n",
    "        return df\n",
    "    return RMSE_sum,RMSE_sum\n",
    "            \n",
    "    "
   ]
  },
  {
   "cell_type": "code",
   "execution_count": 103,
   "id": "74b2654b-c93b-48a9-b4c5-c9f5252daaa5",
   "metadata": {},
   "outputs": [
    {
     "data": {
      "text/plain": [
       "['C:\\\\Users\\\\anne-\\\\OneDrive - Delft University of Technology\\\\Documenten\\\\Environmental Engineering MSc\\\\ENVM1502-Catchment-model\\\\Data\\\\Q\\\\1354083.parquet']"
      ]
     },
     "execution_count": 103,
     "metadata": {},
     "output_type": "execute_result"
    }
   ],
   "source": [
    "path = os.getcwd()\n",
    "home_path = os.path.dirname(path)\n",
    "data_folder = f'{home_path}\\\\Data'\n",
    "files = glob.glob(f\"{data_folder}\\\\Q\\\\*.parquet\")\n"
   ]
  },
  {
   "cell_type": "code",
   "execution_count": 111,
   "id": "7a1c1387-ea3e-445a-9a1d-84ccf0522ed6",
   "metadata": {},
   "outputs": [
    {
     "data": {
      "text/plain": [
       "Index(['1946-02-21', '1946-02-22', '1946-02-23', '1946-02-24', '1946-02-25',\n",
       "       '1946-02-26', '1946-02-27', '1946-02-28', '1946-03-01', '1946-03-02',\n",
       "       ...\n",
       "       '2023-03-25', '2023-03-26', '2023-03-27', '2023-03-28', '2023-03-29',\n",
       "       '2023-03-30', '2023-03-31', '2023-04-01', '2023-04-02', '2023-04-03'],\n",
       "      dtype='object', name='datetime', length=27204)"
      ]
     },
     "execution_count": 111,
     "metadata": {},
     "output_type": "execute_result"
    }
   ],
   "source": [
    "id_up = '1354083'\n",
    "id_down = '1358000'\n",
    "file_up  = glob.glob(f\"{data_folder}\\\\Q\\\\*{id_up}.parquet\")\n",
    "file_down  = glob.glob(f\"{data_folder}\\\\Q\\\\*{id_down}.parquet\")\n",
    "df_up = pd.read_parquet(file_up, columns=['Q_mm_d_hydro']).dropna().rename(columns={'Q_mm_d_hydro':'I'})\n",
    "df_dw = pd.read_parquet(file_down, columns=['Q_mm_d_hydro']).dropna().rename(columns={'Q_mm_d_hydro':'O'})\n",
    "df_dw.index"
   ]
  },
  {
   "cell_type": "code",
   "execution_count": 91,
   "id": "3cde60ef-25bf-4e7d-816c-8494582c949f",
   "metadata": {},
   "outputs": [],
   "source": [
    "dt = 1\n",
    "df = pd.concat([df_up, df_dw],axis=1)\n",
    "data = [df, dt]\n",
    "params = [0.2, 1]"
   ]
  },
  {
   "cell_type": "code",
   "execution_count": 87,
   "id": "37f8e201-4a2c-4fcd-8c12-93044ebdde0f",
   "metadata": {},
   "outputs": [
    {
     "data": {
      "text/plain": [
       " message: The solution converged.\n",
       " success: True\n",
       "  status: 1\n",
       "     fun: [ 4.229e-15  4.229e-15]\n",
       "       x: [-1.913e+00 -5.502e-13]\n",
       "    nfev: 27\n",
       "    fjac: [[-7.071e-01 -7.071e-01]\n",
       "           [ 7.071e-01 -7.071e-01]]\n",
       "       r: [-2.334e-06  1.088e-02 -2.340e-16]\n",
       "     qtf: [-8.565e-12  1.842e-25]"
      ]
     },
     "execution_count": 87,
     "metadata": {},
     "output_type": "execute_result"
    }
   ],
   "source": [
    "output = root(obj,(0.23, .63), args=(data))\n",
    "output"
   ]
  },
  {
   "cell_type": "code",
   "execution_count": null,
   "id": "195d1a1d-d8ed-4eab-b221-a6fa489939f2",
   "metadata": {},
   "outputs": [],
   "source": [
    "fig, ax = plt.subplots(1)\n",
    "df_out = obj(output.x, data, return_df=True)[[\"Qm\", \"O\", \"I\"]]\n",
    "df_out.plot(ax=ax)\n",
    "ax.set_title(\"Modeled vs actual discharge peak\")\n",
    "ax.legend([\"Modelled\",\"Measured\",\"Previous station\"])"
   ]
  },
  {
   "cell_type": "code",
   "execution_count": 80,
   "id": "eac015e2-d000-43ec-aa0a-5fedb01cc17a",
   "metadata": {},
   "outputs": [
    {
     "data": {
      "text/plain": [
       "array([False, False, False, ..., False, False, False])"
      ]
     },
     "execution_count": 80,
     "metadata": {},
     "output_type": "execute_result"
    }
   ],
   "source": [
    "df_up.loc[]"
   ]
  },
  {
   "cell_type": "code",
   "execution_count": 82,
   "id": "d5ab8862-746c-4cf5-84c4-24016ba097e7",
   "metadata": {},
   "outputs": [
    {
     "name": "stdout",
     "output_type": "stream",
     "text": [
      "date exist\n"
     ]
    }
   ],
   "source": [
    "\n",
    "    print ('date exist')"
   ]
  },
  {
   "cell_type": "code",
   "execution_count": null,
   "id": "82c81f86-0b46-4937-847b-2751464530ef",
   "metadata": {},
   "outputs": [],
   "source": []
  }
 ],
 "metadata": {
  "kernelspec": {
   "display_name": "Python 3 (ipykernel)",
   "language": "python",
   "name": "python3"
  },
  "language_info": {
   "codemirror_mode": {
    "name": "ipython",
    "version": 3
   },
   "file_extension": ".py",
   "mimetype": "text/x-python",
   "name": "python",
   "nbconvert_exporter": "python",
   "pygments_lexer": "ipython3",
   "version": "3.11.2"
  }
 },
 "nbformat": 4,
 "nbformat_minor": 5
}
