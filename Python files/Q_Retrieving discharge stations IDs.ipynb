{
 "cells": [
  {
   "cell_type": "code",
   "execution_count": 3,
   "id": "2e79e1eb-629b-442b-b22a-943f24aab470",
   "metadata": {},
   "outputs": [],
   "source": [
    "import numpy as np\n",
    "import pandas as pd\n",
    "import matplotlib.pyplot as plt\n",
    "import matplotlib as mpl\n",
    "import os\n",
    "import glob\n",
    "\n",
    "# webscraping\n",
    "import json\n",
    "import urllib\n",
    "from bs4 import BeautifulSoup\n",
    "from urllib.request import urlopen\n",
    "import os\n",
    "\n",
    "# plotting/mapmaknig/\n",
    "import geopandas as gpd\n",
    "from geospatial_functions import get_background_map\n",
    "import rasterio\n",
    "from rasterio.plot import show as rioshow"
   ]
  },
  {
   "cell_type": "code",
   "execution_count": 4,
   "id": "9abce5bc-3e4b-4692-aad8-662e06f1fa1d",
   "metadata": {},
   "outputs": [],
   "source": [
    "path = os.getcwd()\n",
    "home_path = os.path.dirname(path)\n",
    "data_folder = f'{home_path}\\\\Data'\n",
    "gis_folder = f'{home_path}\\\\GIS'"
   ]
  },
  {
   "cell_type": "markdown",
   "id": "21a26e45-00b9-48de-8c4b-96b4d673d80f",
   "metadata": {},
   "source": [
    "#### From the Hydrolocial website we can extract hydrological units for the basin\n",
    "[USGS Watershed Boundary Dataset (WBD) for 2-digit Hydrologic Unit - 02 (published 20230306) GeoPackage](https://prd-tnm.s3.amazonaws.com/StagedProducts/Hydrography/WBD/HU2/GPKG/WBD_02_HU2_GPKG.zip) using [USGS TNM Download (v2.0](https://apps.nationalmap.gov/downloader/#/)\n",
    "![map](Figures\\wanted_hydrological_areas.png)"
   ]
  },
  {
   "cell_type": "markdown",
   "id": "624bd31d-75dd-440e-926e-13c1b3b271b0",
   "metadata": {},
   "source": [
    "#### The ids shown on the map can be loaded in"
   ]
  },
  {
   "cell_type": "code",
   "execution_count": 52,
   "id": "f38c9fca-6eb0-4c62-9305-5898b79978ac",
   "metadata": {},
   "outputs": [
    {
     "data": {
      "text/plain": [
       "'02020002,02020007,02020003,02020004,02020001,02020008,02030101,02020006,02020005'"
      ]
     },
     "execution_count": 52,
     "metadata": {},
     "output_type": "execute_result"
    }
   ],
   "source": [
    "gdf_wbdhu = gpd.read_file(f\"{gis_folder}\\\\WBDHU8-hudson.gpkg\",driver=\"GPKG\",crs=\"EPSG:4326\")  \n",
    "huc8_ids = \",\".join(gdf_wbdhu.huc8.values)\n",
    "huc8_ids"
   ]
  },
  {
   "cell_type": "markdown",
   "id": "9fa2884b-00c5-4edb-8be0-cefa1ffe2413",
   "metadata": {},
   "source": [
    "#### and queries"
   ]
  },
  {
   "cell_type": "code",
   "execution_count": 53,
   "id": "f7e8c15e-6a0a-4dc4-b475-ae5a5b683d25",
   "metadata": {},
   "outputs": [],
   "source": [
    "station_id_rest_query = f\"https://waterservices.usgs.gov/nwis/dv/?format=rdb&huc={huc8_ids}&parameterCd=00060&siteType=ST&siteStatus=all\"\n",
    "page = urlopen(station_id_rest_query)\n",
    "html_bytes = page.read()\n",
    "html = html_bytes.decode(\"utf-8\")"
   ]
  },
  {
   "cell_type": "markdown",
   "id": "00968e2b-3345-4477-8bd0-525a1262d6c3",
   "metadata": {},
   "source": [
    "#### this data can be processed"
   ]
  },
  {
   "cell_type": "code",
   "execution_count": 58,
   "id": "99492823-7cba-40aa-92a6-9141885dc149",
   "metadata": {},
   "outputs": [
    {
     "name": "stdout",
     "output_type": "stream",
     "text": [
      "# Data for the following 218 site(s) are contained in this file\n",
      "218\n"
     ]
    }
   ],
   "source": [
    "# the 15th line contains the number of sites:\n",
    "skip_rows = 15\n",
    "line = html.split(\"\\n\")[skip_rows]\n",
    "print(line)\n",
    "n = int(line[line.find(\"following \")+len(\"following \"):line.find(\" site\")].strip())\n",
    "print(n)"
   ]
  },
  {
   "cell_type": "markdown",
   "id": "199dbf5d-c747-4530-a6e9-6412c786495b",
   "metadata": {},
   "source": [
    "#### and parsed"
   ]
  },
  {
   "cell_type": "code",
   "execution_count": 82,
   "id": "60756825-a460-4831-8b37-1aec30afe874",
   "metadata": {},
   "outputs": [],
   "source": [
    "data = html.split(\"\\n\")[skip_rows+1:skip_rows+1+n]\n",
    "data_ordered = []\n",
    "for line in data:\n",
    "    words = line[line.find(\"USGS\"):].split(\" \")\n",
    "    type_id_name = words[:2] + [\" \".join(words[2:])]\n",
    "    data_ordered.append(type_id_name)\n",
    "df_sites = pd.DataFrame(data=data_ordered,columns=[\"provider\",\"site_no\",\"name\"])\n",
    "df_sites.site_no = df_sites.site_no.astype(int)"
   ]
  },
  {
   "cell_type": "markdown",
   "id": "0717c8e8-8ba0-467c-b81a-58f0abc3c9b9",
   "metadata": {},
   "source": [
    "#### yielding this df:"
   ]
  },
  {
   "cell_type": "code",
   "execution_count": 83,
   "id": "78da4440-c4fd-472f-940f-3bd602b2bba3",
   "metadata": {},
   "outputs": [
    {
     "data": {
      "text/html": [
       "<div>\n",
       "<style scoped>\n",
       "    .dataframe tbody tr th:only-of-type {\n",
       "        vertical-align: middle;\n",
       "    }\n",
       "\n",
       "    .dataframe tbody tr th {\n",
       "        vertical-align: top;\n",
       "    }\n",
       "\n",
       "    .dataframe thead th {\n",
       "        text-align: right;\n",
       "    }\n",
       "</style>\n",
       "<table border=\"1\" class=\"dataframe\">\n",
       "  <thead>\n",
       "    <tr style=\"text-align: right;\">\n",
       "      <th></th>\n",
       "      <th>provider</th>\n",
       "      <th>site_no</th>\n",
       "      <th>name</th>\n",
       "    </tr>\n",
       "  </thead>\n",
       "  <tbody>\n",
       "    <tr>\n",
       "      <th>0</th>\n",
       "      <td>USGS</td>\n",
       "      <td>131199050</td>\n",
       "      <td>FISHING BROOK (COUNTY LINE FLOW OUTLET) NR NEW...</td>\n",
       "    </tr>\n",
       "    <tr>\n",
       "      <th>1</th>\n",
       "      <td>USGS</td>\n",
       "      <td>1311992</td>\n",
       "      <td>ARBUTUS POND OUTLET NEAR NEWCOMB NY</td>\n",
       "    </tr>\n",
       "    <tr>\n",
       "      <th>2</th>\n",
       "      <td>USGS</td>\n",
       "      <td>1312000</td>\n",
       "      <td>HUDSON RIVER NEAR NEWCOMB NY</td>\n",
       "    </tr>\n",
       "    <tr>\n",
       "      <th>3</th>\n",
       "      <td>USGS</td>\n",
       "      <td>1313500</td>\n",
       "      <td>CEDAR R BELOW CHAIN LAKES NR INDIAN LAKE NY</td>\n",
       "    </tr>\n",
       "    <tr>\n",
       "      <th>4</th>\n",
       "      <td>USGS</td>\n",
       "      <td>1314000</td>\n",
       "      <td>HUDSON R AT GOOLEY, NEAR INDIAN LAKE NY</td>\n",
       "    </tr>\n",
       "    <tr>\n",
       "      <th>...</th>\n",
       "      <td>...</td>\n",
       "      <td>...</td>\n",
       "      <td>...</td>\n",
       "    </tr>\n",
       "    <tr>\n",
       "      <th>213</th>\n",
       "      <td>USGS</td>\n",
       "      <td>1376270</td>\n",
       "      <td>SPARKILL CREEK AT TAPPAN NY</td>\n",
       "    </tr>\n",
       "    <tr>\n",
       "      <th>214</th>\n",
       "      <td>USGS</td>\n",
       "      <td>1376275</td>\n",
       "      <td>SPARKILL CREEK AT TAPPAN STATION NY</td>\n",
       "    </tr>\n",
       "    <tr>\n",
       "      <th>215</th>\n",
       "      <td>USGS</td>\n",
       "      <td>1376280</td>\n",
       "      <td>SPARKILL CREEK AT SPARKILL NY</td>\n",
       "    </tr>\n",
       "    <tr>\n",
       "      <th>216</th>\n",
       "      <td>USGS</td>\n",
       "      <td>1376500</td>\n",
       "      <td>SAW MILL RIVER AT YONKERS NY</td>\n",
       "    </tr>\n",
       "    <tr>\n",
       "      <th>217</th>\n",
       "      <td>USGS</td>\n",
       "      <td>4252000</td>\n",
       "      <td>BLACK R CANAL (FLOWING SOUTH) NR BOONVILLE NY</td>\n",
       "    </tr>\n",
       "  </tbody>\n",
       "</table>\n",
       "<p>218 rows × 3 columns</p>\n",
       "</div>"
      ],
      "text/plain": [
       "    provider    site_no                                               name\n",
       "0       USGS  131199050  FISHING BROOK (COUNTY LINE FLOW OUTLET) NR NEW...\n",
       "1       USGS    1311992                ARBUTUS POND OUTLET NEAR NEWCOMB NY\n",
       "2       USGS    1312000                       HUDSON RIVER NEAR NEWCOMB NY\n",
       "3       USGS    1313500        CEDAR R BELOW CHAIN LAKES NR INDIAN LAKE NY\n",
       "4       USGS    1314000            HUDSON R AT GOOLEY, NEAR INDIAN LAKE NY\n",
       "..       ...        ...                                                ...\n",
       "213     USGS    1376270                        SPARKILL CREEK AT TAPPAN NY\n",
       "214     USGS    1376275                SPARKILL CREEK AT TAPPAN STATION NY\n",
       "215     USGS    1376280                      SPARKILL CREEK AT SPARKILL NY\n",
       "216     USGS    1376500                       SAW MILL RIVER AT YONKERS NY\n",
       "217     USGS    4252000      BLACK R CANAL (FLOWING SOUTH) NR BOONVILLE NY\n",
       "\n",
       "[218 rows x 3 columns]"
      ]
     },
     "execution_count": 83,
     "metadata": {},
     "output_type": "execute_result"
    }
   ],
   "source": [
    "df_sites"
   ]
  },
  {
   "cell_type": "markdown",
   "id": "1cd01783-f1ec-455c-ba58-b32548be5043",
   "metadata": {},
   "source": [
    "#####  The ids are then stored for further analysis"
   ]
  },
  {
   "cell_type": "code",
   "execution_count": 81,
   "id": "788917e1-cf0a-400b-aab3-e86d983668a5",
   "metadata": {},
   "outputs": [],
   "source": [
    "np.savetxt(f'{data_folder}\\\\station_ids.txt',df_sites.site_no.astype(in).values)"
   ]
  }
 ],
 "metadata": {
  "kernelspec": {
   "display_name": "Python 3 (ipykernel)",
   "language": "python",
   "name": "python3"
  },
  "language_info": {
   "codemirror_mode": {
    "name": "ipython",
    "version": 3
   },
   "file_extension": ".py",
   "mimetype": "text/x-python",
   "name": "python",
   "nbconvert_exporter": "python",
   "pygments_lexer": "ipython3",
   "version": "3.10.6"
  }
 },
 "nbformat": 4,
 "nbformat_minor": 5
}
