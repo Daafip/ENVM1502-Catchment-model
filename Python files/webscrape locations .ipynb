{
 "cells": [
  {
   "cell_type": "code",
   "execution_count": 2,
   "id": "2c010aec",
   "metadata": {},
   "outputs": [],
   "source": [
    "import numpy as np\n",
    "import pandas as pd\n",
    "import geopandas as gpd\n",
    "# webscraping\n",
    "import json\n",
    "import urllib\n",
    "from bs4 import BeautifulSoup\n",
    "from urllib.request import urlopen\n",
    "import os"
   ]
  },
  {
   "cell_type": "code",
   "execution_count": 3,
   "id": "af8ce05c",
   "metadata": {},
   "outputs": [],
   "source": [
    "path = os.getcwd()\n",
    "home_path = os.path.dirname(path)\n",
    "gis_folder = f'{home_path}\\\\GIS'\n",
    "data_folder = f'{home_path}\\\\Data'"
   ]
  },
  {
   "cell_type": "code",
   "execution_count": 4,
   "id": "327db992",
   "metadata": {},
   "outputs": [],
   "source": [
    "website_us = \"https://waterservices.usgs.gov/nwis/site/?format=rdb&sites=\""
   ]
  },
  {
   "cell_type": "code",
   "execution_count": 5,
   "id": "9f2b0e9f",
   "metadata": {},
   "outputs": [],
   "source": [
    "end = \"&siteOutput=expanded&siteStatus=all\""
   ]
  },
  {
   "cell_type": "code",
   "execution_count": 6,
   "id": "20e60544",
   "metadata": {},
   "outputs": [
    {
     "data": {
      "text/plain": [
       "array([131199050,   1312000,   1315000,   1315170,   1315226,   1315227,\n",
       "         1315500,   1318500,   1327500,   1327750,   1328770,   1329490,\n",
       "         1329500,   1330000,   1330500,   1334500,   1335754,   1335755,\n",
       "         1358000,   1359133,   1359135,   1359528,   1359750,   1360640,\n",
       "         1361000,   1361200,   1362090,   1362192, 136219503,  13621955,\n",
       "         1362200,   1362230,   1362297, 136230002,   1362322,   1362336,\n",
       "         1362342,   1362357,   1362368,   1362370,   1362380,   1362465,\n",
       "         1362487,   1362497,   1362500,   1363382,   1363556,   1364500,\n",
       "         1372051,   1372500, 137449480,   1374505,   1374531,   1374559,\n",
       "         1374581,   1374598, 137462010,   1374654,   1374701,   1374781,\n",
       "         1374821,   1374890,   1374901,   1374918,   1374930,   1374941,\n",
       "         1374976,   1374987, 137499350,   1375000])"
      ]
     },
     "execution_count": 6,
     "metadata": {},
     "output_type": "execute_result"
    }
   ],
   "source": [
    "ids = np.loadtxt(f'{data_folder}\\\\station_ids.txt',dtype=int)\n",
    "ids"
   ]
  },
  {
   "cell_type": "code",
   "execution_count": 18,
   "id": "b37fc048",
   "metadata": {},
   "outputs": [],
   "source": [
    "output_path_gdf = f\"{gis_folder}\\\\discharge_stations.gpk\"\n",
    "if os.path.exists(output_path_gdf):\n",
    "    gdf_station=gpd.read_file(output_path_gdf,driver=\"GPKG\",crs=\"EPSG:4326\")   \n",
    "else:\n",
    "    df_lst = []\n",
    "    for i in ids:\n",
    "        site = website_us + f'0{i}' + end\n",
    "        page = urlopen(site)\n",
    "        html_bytes = page.read()\n",
    "        html = html_bytes.decode(\"utf-8\")\n",
    "        splitted = html[2297:].split(\"\\n\")\n",
    "        header = splitted[0].split('\\t')\n",
    "        data = splitted[2].split('\\t')\n",
    "        df_lst.append(pd.DataFrame(data=[data],columns=header))\n",
    "    df_stations = pd.concat(df_lst)\n",
    "\n",
    "    df_stations.reset_index(drop=True,inplace=True)\n",
    "\n",
    "    gdf_station = gpd.GeoDataFrame(data=df_stations, \n",
    "                     geometry=gpd.points_from_xy(df_stations.dec_long_va,df_stations.dec_lat_va,crs=\"EPSG:4326\"))\n",
    "\n",
    "    gdf_station.to_file(output_path_gdf, driver=\"GPKG\")"
   ]
  },
  {
   "cell_type": "code",
   "execution_count": 22,
   "id": "4877e9a0",
   "metadata": {},
   "outputs": [
    {
     "data": {
      "text/html": [
       "<div>\n",
       "<style scoped>\n",
       "    .dataframe tbody tr th:only-of-type {\n",
       "        vertical-align: middle;\n",
       "    }\n",
       "\n",
       "    .dataframe tbody tr th {\n",
       "        vertical-align: top;\n",
       "    }\n",
       "\n",
       "    .dataframe thead th {\n",
       "        text-align: right;\n",
       "    }\n",
       "</style>\n",
       "<table border=\"1\" class=\"dataframe\">\n",
       "  <thead>\n",
       "    <tr style=\"text-align: right;\">\n",
       "      <th></th>\n",
       "      <th>agency_cd</th>\n",
       "      <th>site_no</th>\n",
       "      <th>station_nm</th>\n",
       "      <th>site_tp_cd</th>\n",
       "      <th>lat_va</th>\n",
       "      <th>long_va</th>\n",
       "      <th>dec_lat_va</th>\n",
       "      <th>dec_long_va</th>\n",
       "      <th>coord_meth_cd</th>\n",
       "      <th>coord_acy_cd</th>\n",
       "      <th>...</th>\n",
       "      <th>reliability_cd</th>\n",
       "      <th>gw_file_cd</th>\n",
       "      <th>nat_aqfr_cd</th>\n",
       "      <th>aqfr_cd</th>\n",
       "      <th>aqfr_type_cd</th>\n",
       "      <th>well_depth_va</th>\n",
       "      <th>hole_depth_va</th>\n",
       "      <th>depth_src_cd</th>\n",
       "      <th>project_no</th>\n",
       "      <th>geometry</th>\n",
       "    </tr>\n",
       "  </thead>\n",
       "  <tbody>\n",
       "    <tr>\n",
       "      <th>0</th>\n",
       "      <td>USGS</td>\n",
       "      <td>0131199050</td>\n",
       "      <td>FISHING BROOK (COUNTY LINE FLOW OUTLET) NR NEW...</td>\n",
       "      <td>ST</td>\n",
       "      <td>435838.6</td>\n",
       "      <td>0741613.5</td>\n",
       "      <td>43.97738889</td>\n",
       "      <td>-74.2704167</td>\n",
       "      <td>N</td>\n",
       "      <td>1</td>\n",
       "      <td>...</td>\n",
       "      <td></td>\n",
       "      <td>Y</td>\n",
       "      <td></td>\n",
       "      <td></td>\n",
       "      <td></td>\n",
       "      <td></td>\n",
       "      <td></td>\n",
       "      <td></td>\n",
       "      <td>GAZETTEER</td>\n",
       "      <td>POINT (-74.27042 43.97739)</td>\n",
       "    </tr>\n",
       "  </tbody>\n",
       "</table>\n",
       "<p>1 rows × 43 columns</p>\n",
       "</div>"
      ],
      "text/plain": [
       "  agency_cd     site_no                                         station_nm  \\\n",
       "0      USGS  0131199050  FISHING BROOK (COUNTY LINE FLOW OUTLET) NR NEW...   \n",
       "\n",
       "  site_tp_cd    lat_va    long_va   dec_lat_va  dec_long_va coord_meth_cd  \\\n",
       "0         ST  435838.6  0741613.5  43.97738889  -74.2704167             N   \n",
       "\n",
       "  coord_acy_cd  ... reliability_cd gw_file_cd nat_aqfr_cd aqfr_cd  \\\n",
       "0            1  ...                         Y                       \n",
       "\n",
       "  aqfr_type_cd well_depth_va hole_depth_va depth_src_cd project_no  \\\n",
       "0                                                        GAZETTEER   \n",
       "\n",
       "                     geometry  \n",
       "0  POINT (-74.27042 43.97739)  \n",
       "\n",
       "[1 rows x 43 columns]"
      ]
     },
     "execution_count": 22,
     "metadata": {},
     "output_type": "execute_result"
    }
   ],
   "source": [
    "gdf_station.head(1)"
   ]
  },
  {
   "cell_type": "markdown",
   "id": "d88fe739-5919-4bd6-9325-996ab91b5cd6",
   "metadata": {},
   "source": [
    "# link to loading discharge data:\n",
    "\n",
    "import the station which have discharge data and filter these"
   ]
  },
  {
   "cell_type": "code",
   "execution_count": 24,
   "id": "1271085a-949a-4c5e-92f8-b327a99eee4c",
   "metadata": {},
   "outputs": [],
   "source": [
    "ids_with_Q = np.loadtxt(f'{data_folder}\\\\station_ids_with_Q.txt').astype(np.int64)"
   ]
  },
  {
   "cell_type": "code",
   "execution_count": 44,
   "id": "15269d8f-bcc3-420c-8015-0dede7161705",
   "metadata": {},
   "outputs": [],
   "source": [
    "gdf_station_with_Q = gdf_station[gdf_station.apply(lambda x: True if int(x.site_no[1:]) in ids_with_Q else False,axis=1)]\n",
    "gdf_station_with_Q.index = gdf_station_with_Q.apply(lambda x: int(x.site_no[1:]),axis=1)\n",
    "gdf_station_with_Q_out = gdf_station_with_Q.drop(columns=[\"site_no\"])"
   ]
  },
  {
   "cell_type": "code",
   "execution_count": 47,
   "id": "54fed9bb-f1b5-4787-ab75-2d21dd186c35",
   "metadata": {},
   "outputs": [],
   "source": [
    "gdf_station_with_Q_out.to_file(f\"{gis_folder}\\\\discharge_stations_with_Q.gpk\", driver=\"GPKG\")"
   ]
  },
  {
   "cell_type": "code",
   "execution_count": null,
   "id": "6958f780-3499-4d4f-9565-2978b6f002d8",
   "metadata": {},
   "outputs": [],
   "source": []
  }
 ],
 "metadata": {
  "kernelspec": {
   "display_name": "MUDEGEO",
   "language": "python",
   "name": "mudegeo"
  },
  "language_info": {
   "codemirror_mode": {
    "name": "ipython",
    "version": 3
   },
   "file_extension": ".py",
   "mimetype": "text/x-python",
   "name": "python",
   "nbconvert_exporter": "python",
   "pygments_lexer": "ipython3",
   "version": "3.9.13"
  }
 },
 "nbformat": 4,
 "nbformat_minor": 5
}
