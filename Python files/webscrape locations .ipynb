{
 "cells": [
  {
   "cell_type": "code",
   "execution_count": 17,
   "id": "2c010aec",
   "metadata": {},
   "outputs": [],
   "source": [
    "import numpy as np\n",
    "import pandas as pd\n",
    "import geopandas as gpd\n",
    "# webscraping\n",
    "import json\n",
    "import urllib\n",
    "from bs4 import BeautifulSoup\n",
    "from urllib.request import urlopen\n",
    "import os"
   ]
  },
  {
   "cell_type": "code",
   "execution_count": 22,
   "id": "af8ce05c",
   "metadata": {},
   "outputs": [],
   "source": [
    "path = os.getcwd()\n",
    "home_path = os.path.dirname(path)\n",
    "gis_folder = f'{home_path}\\\\GIS'"
   ]
  },
  {
   "cell_type": "code",
   "execution_count": 24,
   "id": "2ef3dd9a",
   "metadata": {},
   "outputs": [
    {
     "data": {
      "text/plain": [
       "'C:\\\\Users\\\\david\\\\Documents\\\\@@ Python\\\\Jaar 5\\\\Q3\\\\ENVM1502\\\\Git\\\\GIS'"
      ]
     },
     "execution_count": 24,
     "metadata": {},
     "output_type": "execute_result"
    }
   ],
   "source": [
    "gis_folder"
   ]
  },
  {
   "cell_type": "code",
   "execution_count": 2,
   "id": "327db992",
   "metadata": {},
   "outputs": [],
   "source": [
    "website_us = \"https://waterservices.usgs.gov/nwis/site/?format=rdb&sites=\""
   ]
  },
  {
   "cell_type": "code",
   "execution_count": 3,
   "id": "9f2b0e9f",
   "metadata": {},
   "outputs": [],
   "source": [
    "end = \"&siteOutput=expanded&siteStatus=all\""
   ]
  },
  {
   "cell_type": "code",
   "execution_count": 4,
   "id": "20e60544",
   "metadata": {},
   "outputs": [],
   "source": [
    "ids =  [1312000,\n",
    "        1315500,\n",
    "        1318500,\n",
    "        1327750,\n",
    "        1328770,\n",
    "        1335754,\n",
    "        1335755,\n",
    "        1358000,\n",
    "        1359139,\n",
    "        1359165,\n",
    "        135980207,\n",
    "        1372043,\n",
    "        1372058,\n",
    "        1374019,\n",
    "        1376269,\n",
    "        1376307,\n",
    "        1376515,\n",
    "        1376520]\n"
   ]
  },
  {
   "cell_type": "code",
   "execution_count": 5,
   "id": "b37fc048",
   "metadata": {},
   "outputs": [],
   "source": [
    "# coords_lst = []\n",
    "df_lst = []\n",
    "for i in ids:\n",
    "    site = website_us + f'0{i}' + end\n",
    "    page = urlopen(site)\n",
    "    html_bytes = page.read()\n",
    "    html = html_bytes.decode(\"utf-8\")\n",
    "    splitted = html[2297:].split(\"\\n\")\n",
    "    header = splitted[0].split('\\t')\n",
    "    data = splitted[2].split('\\t')\n",
    "    df_lst.append(pd.DataFrame(data=[data],columns=header))\n",
    "#     data = np.genfromtxt(BeautifulSoup(html[2297:]))\n",
    "#     new_data = data[~np.isnan(data)]\n",
    "#     coords = new_data[3:5]\n",
    "#     if coords[0] > 45:\n",
    "#         coords = new_data[4:6]\n",
    "#     coords_lst.append(coords)\n",
    "# coords_lst = np.array(coords_lst)\n",
    "# np.savetxt(\"station_number.txt\",coords_lst,delimiter=',',header='\"lat\",\"lon\"')\n",
    "\n",
    "df_stations = pd.concat(df_lst)"
   ]
  },
  {
   "cell_type": "code",
   "execution_count": 12,
   "id": "0074f37c",
   "metadata": {},
   "outputs": [],
   "source": [
    "gdf_station = gpd.GeoDataFrame(data=df_stations, \n",
    "                 geometry=gpd.points_from_xy(df_stations.dec_long_va,df_stations.dec_lat_va,crs=\"EPSG:26918\"))"
   ]
  },
  {
   "cell_type": "code",
   "execution_count": 16,
   "id": "4877e9a0",
   "metadata": {},
   "outputs": [],
   "source": [
    "gdf_station.to_file(\"GIS\\Stations.gpk\", driver=\"GPKG\")"
   ]
  },
  {
   "cell_type": "code",
   "execution_count": null,
   "id": "b0711d5b",
   "metadata": {},
   "outputs": [],
   "source": []
  }
 ],
 "metadata": {
  "kernelspec": {
   "display_name": "MUDEGEO",
   "language": "python",
   "name": "mudegeo"
  },
  "language_info": {
   "codemirror_mode": {
    "name": "ipython",
    "version": 3
   },
   "file_extension": ".py",
   "mimetype": "text/x-python",
   "name": "python",
   "nbconvert_exporter": "python",
   "pygments_lexer": "ipython3",
   "version": "3.9.13"
  }
 },
 "nbformat": 4,
 "nbformat_minor": 5
}
