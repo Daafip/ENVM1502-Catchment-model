{
 "cells": [
  {
   "cell_type": "code",
   "execution_count": 2,
   "id": "b55bd1e5-a86b-48be-8849-4936f44859dd",
   "metadata": {},
   "outputs": [],
   "source": [
    "import pandas as pd\n",
    "import numpy as np\n",
    "import matplotlib.pyplot as plt\n",
    "import glob\n",
    "import os"
   ]
  },
  {
   "cell_type": "code",
   "execution_count": 3,
   "id": "23fa139b-fd82-44ee-b54b-98a19984b486",
   "metadata": {},
   "outputs": [],
   "source": [
    "path = os.getcwd()\n",
    "home_path = os.path.dirname(path)\n",
    "data_folder = f'{home_path}\\\\Data'"
   ]
  },
  {
   "cell_type": "code",
   "execution_count": 4,
   "id": "2d53a6c4-90f3-4ac1-a095-85465c3c3ed7",
   "metadata": {},
   "outputs": [
    {
     "data": {
      "text/plain": [
       "['C:\\\\Users\\\\david\\\\Documents\\\\@@ Python\\\\Jaar 5\\\\Q3\\\\ENVM1502\\\\Git\\\\ENVM1502-Catchment-model\\\\Data\\\\EP\\\\combined_PE.parquet']"
      ]
     },
     "execution_count": 4,
     "metadata": {},
     "output_type": "execute_result"
    }
   ],
   "source": [
    "files_E = glob.glob(f\"{data_folder}\\\\EP\\\\combined_PE.parquet\")\n",
    "files_E"
   ]
  },
  {
   "cell_type": "code",
   "execution_count": 5,
   "id": "9ae08d8b-58c2-4dea-80c0-e727b0cc292f",
   "metadata": {},
   "outputs": [
    {
     "data": {
      "text/html": [
       "<div>\n",
       "<style scoped>\n",
       "    .dataframe tbody tr th:only-of-type {\n",
       "        vertical-align: middle;\n",
       "    }\n",
       "\n",
       "    .dataframe tbody tr th {\n",
       "        vertical-align: top;\n",
       "    }\n",
       "\n",
       "    .dataframe thead th {\n",
       "        text-align: right;\n",
       "    }\n",
       "</style>\n",
       "<table border=\"1\" class=\"dataframe\">\n",
       "  <thead>\n",
       "    <tr style=\"text-align: right;\">\n",
       "      <th></th>\n",
       "      <th>Pev</th>\n",
       "    </tr>\n",
       "    <tr>\n",
       "      <th>time</th>\n",
       "      <th></th>\n",
       "    </tr>\n",
       "  </thead>\n",
       "  <tbody>\n",
       "    <tr>\n",
       "      <th>2011-01-01</th>\n",
       "      <td>0.125836</td>\n",
       "    </tr>\n",
       "    <tr>\n",
       "      <th>2011-01-02</th>\n",
       "      <td>0.035201</td>\n",
       "    </tr>\n",
       "    <tr>\n",
       "      <th>2011-01-03</th>\n",
       "      <td>0.240013</td>\n",
       "    </tr>\n",
       "    <tr>\n",
       "      <th>2011-01-04</th>\n",
       "      <td>0.219147</td>\n",
       "    </tr>\n",
       "    <tr>\n",
       "      <th>2011-01-05</th>\n",
       "      <td>0.191367</td>\n",
       "    </tr>\n",
       "  </tbody>\n",
       "</table>\n",
       "</div>"
      ],
      "text/plain": [
       "                 Pev\n",
       "time                \n",
       "2011-01-01  0.125836\n",
       "2011-01-02  0.035201\n",
       "2011-01-03  0.240013\n",
       "2011-01-04  0.219147\n",
       "2011-01-05  0.191367"
      ]
     },
     "execution_count": 5,
     "metadata": {},
     "output_type": "execute_result"
    }
   ],
   "source": [
    "evap = pd.read_parquet(files_E)\n",
    "evap.index = pd.to_datetime(evap.index)\n",
    "evap.head()"
   ]
  },
  {
   "cell_type": "code",
   "execution_count": 9,
   "id": "7327ea7c-0198-41a8-976b-91060a05c0d8",
   "metadata": {},
   "outputs": [
    {
     "name": "stdout",
     "output_type": "stream",
     "text": [
      "['C:\\\\Users\\\\david\\\\Documents\\\\@@ Python\\\\Jaar 5\\\\Q3\\\\ENVM1502\\\\Git\\\\ENVM1502-Catchment-model\\\\Data\\\\P\\\\weighted_average_P.parquet']\n"
     ]
    },
    {
     "data": {
      "text/html": [
       "<div>\n",
       "<style scoped>\n",
       "    .dataframe tbody tr th:only-of-type {\n",
       "        vertical-align: middle;\n",
       "    }\n",
       "\n",
       "    .dataframe tbody tr th {\n",
       "        vertical-align: top;\n",
       "    }\n",
       "\n",
       "    .dataframe thead th {\n",
       "        text-align: right;\n",
       "    }\n",
       "</style>\n",
       "<table border=\"1\" class=\"dataframe\">\n",
       "  <thead>\n",
       "    <tr style=\"text-align: right;\">\n",
       "      <th></th>\n",
       "      <th>P</th>\n",
       "    </tr>\n",
       "    <tr>\n",
       "      <th>index</th>\n",
       "      <th></th>\n",
       "    </tr>\n",
       "  </thead>\n",
       "  <tbody>\n",
       "    <tr>\n",
       "      <th>1950-01-01</th>\n",
       "      <td>0.019288</td>\n",
       "    </tr>\n",
       "    <tr>\n",
       "      <th>1950-01-02</th>\n",
       "      <td>0.465449</td>\n",
       "    </tr>\n",
       "    <tr>\n",
       "      <th>1950-01-03</th>\n",
       "      <td>3.213094</td>\n",
       "    </tr>\n",
       "    <tr>\n",
       "      <th>1950-01-04</th>\n",
       "      <td>3.390378</td>\n",
       "    </tr>\n",
       "    <tr>\n",
       "      <th>1950-01-05</th>\n",
       "      <td>1.133890</td>\n",
       "    </tr>\n",
       "  </tbody>\n",
       "</table>\n",
       "</div>"
      ],
      "text/plain": [
       "                   P\n",
       "index               \n",
       "1950-01-01  0.019288\n",
       "1950-01-02  0.465449\n",
       "1950-01-03  3.213094\n",
       "1950-01-04  3.390378\n",
       "1950-01-05  1.133890"
      ]
     },
     "execution_count": 9,
     "metadata": {},
     "output_type": "execute_result"
    }
   ],
   "source": [
    "# take the theissen weighted amounts\n",
    "files_P = glob.glob(f\"{data_folder}\\\\P\\\\weighted*.parquet\")\n",
    "print(files_P)\n",
    "\n",
    "prcp = pd.read_parquet(files_P[0])\n",
    "prcp.head()"
   ]
  },
  {
   "cell_type": "code",
   "execution_count": 10,
   "id": "f07f8ab2-304d-49f8-a1c9-e9e50bf60b68",
   "metadata": {},
   "outputs": [
    {
     "data": {
      "text/html": [
       "<div>\n",
       "<style scoped>\n",
       "    .dataframe tbody tr th:only-of-type {\n",
       "        vertical-align: middle;\n",
       "    }\n",
       "\n",
       "    .dataframe tbody tr th {\n",
       "        vertical-align: top;\n",
       "    }\n",
       "\n",
       "    .dataframe thead th {\n",
       "        text-align: right;\n",
       "    }\n",
       "</style>\n",
       "<table border=\"1\" class=\"dataframe\">\n",
       "  <thead>\n",
       "    <tr style=\"text-align: right;\">\n",
       "      <th></th>\n",
       "      <th>Q</th>\n",
       "    </tr>\n",
       "    <tr>\n",
       "      <th>datetime</th>\n",
       "      <th></th>\n",
       "    </tr>\n",
       "  </thead>\n",
       "  <tbody>\n",
       "    <tr>\n",
       "      <th>1946-02-21</th>\n",
       "      <td>1.138838</td>\n",
       "    </tr>\n",
       "    <tr>\n",
       "      <th>1946-02-22</th>\n",
       "      <td>1.171309</td>\n",
       "    </tr>\n",
       "    <tr>\n",
       "      <th>1946-02-23</th>\n",
       "      <td>1.122602</td>\n",
       "    </tr>\n",
       "    <tr>\n",
       "      <th>1946-02-24</th>\n",
       "      <td>1.101727</td>\n",
       "    </tr>\n",
       "    <tr>\n",
       "      <th>1946-02-25</th>\n",
       "      <td>0.859347</td>\n",
       "    </tr>\n",
       "  </tbody>\n",
       "</table>\n",
       "</div>"
      ],
      "text/plain": [
       "                   Q\n",
       "datetime            \n",
       "1946-02-21  1.138838\n",
       "1946-02-22  1.171309\n",
       "1946-02-23  1.122602\n",
       "1946-02-24  1.101727\n",
       "1946-02-25  0.859347"
      ]
     },
     "execution_count": 10,
     "metadata": {},
     "output_type": "execute_result"
    }
   ],
   "source": [
    "files_Q = glob.glob(f\"{data_folder}\\\\Q\\\\*1358000.parquet\")\n",
    "files_Q\n",
    "\n",
    "discharge = pd.read_parquet(files_Q[0], columns=['Q_mm_d_hydro'])\n",
    "discharge.index = pd.to_datetime(discharge.index)\n",
    "discharge.rename(columns={'Q_mm_d_hydro':'Q'}, inplace=True)\n",
    "discharge.head()"
   ]
  },
  {
   "cell_type": "code",
   "execution_count": 11,
   "id": "8c549461-64a1-4dec-8124-d30a0ea880fa",
   "metadata": {},
   "outputs": [
    {
     "data": {
      "text/html": [
       "<div>\n",
       "<style scoped>\n",
       "    .dataframe tbody tr th:only-of-type {\n",
       "        vertical-align: middle;\n",
       "    }\n",
       "\n",
       "    .dataframe tbody tr th {\n",
       "        vertical-align: top;\n",
       "    }\n",
       "\n",
       "    .dataframe thead th {\n",
       "        text-align: right;\n",
       "    }\n",
       "</style>\n",
       "<table border=\"1\" class=\"dataframe\">\n",
       "  <thead>\n",
       "    <tr style=\"text-align: right;\">\n",
       "      <th></th>\n",
       "      <th>T</th>\n",
       "    </tr>\n",
       "    <tr>\n",
       "      <th>DATE</th>\n",
       "      <th></th>\n",
       "    </tr>\n",
       "  </thead>\n",
       "  <tbody>\n",
       "    <tr>\n",
       "      <th>1885-01-01</th>\n",
       "      <td>3.85</td>\n",
       "    </tr>\n",
       "    <tr>\n",
       "      <th>1885-01-02</th>\n",
       "      <td>-10.30</td>\n",
       "    </tr>\n",
       "    <tr>\n",
       "      <th>1885-01-03</th>\n",
       "      <td>-11.40</td>\n",
       "    </tr>\n",
       "    <tr>\n",
       "      <th>1885-01-04</th>\n",
       "      <td>-8.05</td>\n",
       "    </tr>\n",
       "    <tr>\n",
       "      <th>1885-01-05</th>\n",
       "      <td>-2.80</td>\n",
       "    </tr>\n",
       "  </tbody>\n",
       "</table>\n",
       "</div>"
      ],
      "text/plain": [
       "                T\n",
       "DATE             \n",
       "1885-01-01   3.85\n",
       "1885-01-02 -10.30\n",
       "1885-01-03 -11.40\n",
       "1885-01-04  -8.05\n",
       "1885-01-05  -2.80"
      ]
     },
     "execution_count": 11,
     "metadata": {},
     "output_type": "execute_result"
    }
   ],
   "source": [
    "file_T = f'{data_folder}\\\\T\\\\combined_mean_T.parquet'\n",
    "temperature = pd.read_parquet(file_T)\n",
    "temperature.rename(columns={'T_MEAN':'T'}, inplace=True)\n",
    "temperature.head()"
   ]
  },
  {
   "cell_type": "code",
   "execution_count": 12,
   "id": "0332a6d4-7d75-4979-be94-ef7dc58ed69e",
   "metadata": {},
   "outputs": [
    {
     "data": {
      "text/html": [
       "<div>\n",
       "<style scoped>\n",
       "    .dataframe tbody tr th:only-of-type {\n",
       "        vertical-align: middle;\n",
       "    }\n",
       "\n",
       "    .dataframe tbody tr th {\n",
       "        vertical-align: top;\n",
       "    }\n",
       "\n",
       "    .dataframe thead th {\n",
       "        text-align: right;\n",
       "    }\n",
       "</style>\n",
       "<table border=\"1\" class=\"dataframe\">\n",
       "  <thead>\n",
       "    <tr style=\"text-align: right;\">\n",
       "      <th></th>\n",
       "      <th>T</th>\n",
       "      <th>Pev</th>\n",
       "      <th>P</th>\n",
       "      <th>Q</th>\n",
       "    </tr>\n",
       "  </thead>\n",
       "  <tbody>\n",
       "    <tr>\n",
       "      <th>1885-01-01</th>\n",
       "      <td>3.85</td>\n",
       "      <td>NaN</td>\n",
       "      <td>NaN</td>\n",
       "      <td>NaN</td>\n",
       "    </tr>\n",
       "    <tr>\n",
       "      <th>1885-01-02</th>\n",
       "      <td>-10.30</td>\n",
       "      <td>NaN</td>\n",
       "      <td>NaN</td>\n",
       "      <td>NaN</td>\n",
       "    </tr>\n",
       "    <tr>\n",
       "      <th>1885-01-03</th>\n",
       "      <td>-11.40</td>\n",
       "      <td>NaN</td>\n",
       "      <td>NaN</td>\n",
       "      <td>NaN</td>\n",
       "    </tr>\n",
       "    <tr>\n",
       "      <th>1885-01-04</th>\n",
       "      <td>-8.05</td>\n",
       "      <td>NaN</td>\n",
       "      <td>NaN</td>\n",
       "      <td>NaN</td>\n",
       "    </tr>\n",
       "    <tr>\n",
       "      <th>1885-01-05</th>\n",
       "      <td>-2.80</td>\n",
       "      <td>NaN</td>\n",
       "      <td>NaN</td>\n",
       "      <td>NaN</td>\n",
       "    </tr>\n",
       "  </tbody>\n",
       "</table>\n",
       "</div>"
      ],
      "text/plain": [
       "                T  Pev   P   Q\n",
       "1885-01-01   3.85  NaN NaN NaN\n",
       "1885-01-02 -10.30  NaN NaN NaN\n",
       "1885-01-03 -11.40  NaN NaN NaN\n",
       "1885-01-04  -8.05  NaN NaN NaN\n",
       "1885-01-05  -2.80  NaN NaN NaN"
      ]
     },
     "execution_count": 12,
     "metadata": {},
     "output_type": "execute_result"
    }
   ],
   "source": [
    "df = pd.concat([temperature,evap,prcp, discharge], axis=1)\n",
    "df.head()"
   ]
  },
  {
   "cell_type": "code",
   "execution_count": 13,
   "id": "034a49e3-5ba6-451e-94b2-0d8e5845a531",
   "metadata": {},
   "outputs": [
    {
     "data": {
      "text/plain": [
       "<matplotlib.legend.Legend at 0x211d7997b90>"
      ]
     },
     "execution_count": 13,
     "metadata": {},
     "output_type": "execute_result"
    },
    {
     "data": {
      "image/png": "[encoded data removed]",
      "text/plain": [
       "<Figure size 640x480 with 1 Axes>"
      ]
     },
     "metadata": {},
     "output_type": "display_data"
    }
   ],
   "source": [
    "for i, col in enumerate([\"Pev\",\"Q\",\"P\"]):\n",
    "    df[col].plot(lw=0,marker=\".\",zorder=2-i,label=col)\n",
    "plt.legend()"
   ]
  },
  {
   "cell_type": "code",
   "execution_count": 14,
   "id": "c398a7c8-c4ab-480f-b44e-b39deda11f3f",
   "metadata": {},
   "outputs": [],
   "source": [
    "df.to_parquet(f\"{data_folder}\\\\combined_data.parquet\")"
   ]
  },
  {
   "cell_type": "code",
   "execution_count": null,
   "id": "50eb0bb6-8db9-49d2-8cc2-d75ae11181d3",
   "metadata": {},
   "outputs": [],
   "source": []
  },
  {
   "cell_type": "code",
   "execution_count": null,
   "id": "9536bc12-f31a-4514-a637-1820a6117fe3",
   "metadata": {},
   "outputs": [],
   "source": []
  }
 ],
 "metadata": {
  "kernelspec": {
   "display_name": "Python 3 (ipykernel)",
   "language": "python",
   "name": "python3"
  },
  "language_info": {
   "codemirror_mode": {
    "name": "ipython",
    "version": 3
   },
   "file_extension": ".py",
   "mimetype": "text/x-python",
   "name": "python",
   "nbconvert_exporter": "python",
   "pygments_lexer": "ipython3",
   "version": "3.11.0"
  }
 },
 "nbformat": 4,
 "nbformat_minor": 5
}
