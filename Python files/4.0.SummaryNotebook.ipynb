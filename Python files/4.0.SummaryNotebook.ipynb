{
 "cells": [
  {
   "cell_type": "markdown",
   "id": "0f9d31ec-47db-4bce-82de-8cab88051b5f",
   "metadata": {},
   "source": [
    "### loading packages"
   ]
  },
  {
   "cell_type": "code",
   "execution_count": 2,
   "id": "9298ce48-4d51-474b-bb73-3259bcbc8804",
   "metadata": {},
   "outputs": [],
   "source": [
    "import numpy as np\n",
    "import pandas as pd\n",
    "import matplotlib.pyplot as plt\n",
    "import os\n",
    "import glob"
   ]
  },
  {
   "cell_type": "markdown",
   "id": "a7f66cd5-6054-4478-8f97-dd789a084522",
   "metadata": {},
   "source": [
    "### specifiying directories"
   ]
  },
  {
   "cell_type": "code",
   "execution_count": 4,
   "id": "e3937801-d743-4f88-85a7-8861063556d6",
   "metadata": {},
   "outputs": [],
   "source": [
    "path = os.getcwd()\n",
    "home_path = os.path.dirname(path)\n",
    "data_folder = f'{home_path}\\\\Data'\n",
    "gis_folder = f'{home_path}\\\\GIS'"
   ]
  },
  {
   "cell_type": "markdown",
   "id": "14ea31ae-1ea4-4faf-be8d-d483f40856f6",
   "metadata": {},
   "source": [
    "### loading needed geospatial layers"
   ]
  },
  {
   "cell_type": "markdown",
   "id": "6008bd97-c79a-48e1-bec0-5de647b80e8f",
   "metadata": {},
   "source": [
    "# 0. Dataset \n",
    "## 0.1 - P"
   ]
  },
  {
   "cell_type": "markdown",
   "id": "c2f1c648-a944-478b-a9d2-06e461712036",
   "metadata": {},
   "source": [
    "All data is downloaded from:  https://www.ncei.noaa.gov/cdo-web/. The raw data file is too large to be stored, individual station data can be found [here](https://github.com/Daafip/ENVM1502-Catchment-model/tree/main/Data/P/data%20per%20station) in the repo. "
   ]
  },
  {
   "cell_type": "markdown",
   "id": "a476853a-364f-4a8e-a2b0-ac9333d14f3d",
   "metadata": {},
   "source": [
    "Initially the mean over the whole area was taken"
   ]
  }
 ],
 "metadata": {
  "kernelspec": {
   "display_name": "Python 3 (ipykernel)",
   "language": "python",
   "name": "python3"
  },
  "language_info": {
   "codemirror_mode": {
    "name": "ipython",
    "version": 3
   },
   "file_extension": ".py",
   "mimetype": "text/x-python",
   "name": "python",
   "nbconvert_exporter": "python",
   "pygments_lexer": "ipython3",
   "version": "3.11.0"
  }
 },
 "nbformat": 4,
 "nbformat_minor": 5
}
