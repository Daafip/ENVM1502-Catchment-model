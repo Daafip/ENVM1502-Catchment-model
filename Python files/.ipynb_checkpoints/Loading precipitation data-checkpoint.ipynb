{
 "cells": [
  {
   "cell_type": "code",
   "execution_count": 20,
   "metadata": {},
   "outputs": [],
   "source": [
    "import numpy as np\n",
    "import pandas as pd\n",
    "import matplotlib.pyplot as plt\n",
    "import os\n",
    "import glob\n",
    "import fastparquet"
   ]
  },
  {
   "cell_type": "code",
   "execution_count": 21,
   "metadata": {},
   "outputs": [],
   "source": [
    "def get_location(data, sort, create=False):\n",
    "    unique_station = data.STATION.unique()\n",
    "    unique_lat = np.zeros(len(unique_station))\n",
    "    unique_lon = np.zeros(len(unique_station))\n",
    "    \n",
    "    for index, station in enumerate(unique_station):\n",
    "        unique_lat[index] = data[data.STATION == station].LATITUDE[0]\n",
    "        unique_lon[index] = data[data.STATION == station].LONGITUDE[0]\n",
    "        \n",
    "    \n",
    "    locations = pd.DataFrame([unique_station, unique_lat, unique_lon]).T\n",
    "\n",
    "    locations = locations.rename({0:'station ID', 1:'lat', 2:'lon'}, axis='columns')\n",
    "    \n",
    "    if create == True:\n",
    "        locations.to_csv(f'{data_folder}\\\\P\\\\locations_{sort}.csv')\n",
    "        return locations\n",
    "    return locations"
   ]
  },
  {
   "cell_type": "code",
   "execution_count": 22,
   "metadata": {},
   "outputs": [],
   "source": [
    "def split_df_station(data, locations, sort, create=False):\n",
    "    locations = np.array(locations)\n",
    "    #unique_station = data.STATION.unique()\n",
    "    #create a data frame dictionary to store your data frames\n",
    "    DataFrameDict = {x : pd.DataFrame() for x in locations}\n",
    "\n",
    "    for key in DataFrameDict.keys():\n",
    "        DataFrameDict[key] = data[:][data.STATION == key]\n",
    "        if create == True:\n",
    "            DataFrameDict[key].to_csv(f'{data_folder}\\\\P\\\\data per station\\\\data_{key}_{sort}.csv')\n",
    "    return DataFrameDict\n",
    "    "
   ]
  },
  {
   "cell_type": "code",
   "execution_count": 23,
   "metadata": {},
   "outputs": [],
   "source": [
    "def list_dataframe(dict_data, sort):\n",
    "    df_list = []\n",
    "    for name in dict_data.keys():\n",
    "        DF = pd.read_csv(f'{data_folder}\\\\P\\\\data per station\\\\data_{name}_{sort}.csv', index_col='DATE', parse_dates=True)\n",
    "        df_list.append(DF)\n",
    "    return df_list"
   ]
  },
  {
   "cell_type": "code",
   "execution_count": 24,
   "metadata": {},
   "outputs": [],
   "source": [
    "path = os.getcwd()\n",
    "home_path = os.path.dirname(path)\n",
    "data_folder = f'{home_path}\\\\Data'"
   ]
  },
  {
   "cell_type": "code",
   "execution_count": 25,
   "metadata": {},
   "outputs": [
    {
     "data": {
      "text/plain": [
       "['C:\\\\Users\\\\anne-\\\\OneDrive - Delft University of Technology\\\\Documenten\\\\Environmental Engineering MSc\\\\ENVM1502-Catchment-model\\\\Data\\\\3285895.csv',\n",
       " 'C:\\\\Users\\\\anne-\\\\OneDrive - Delft University of Technology\\\\Documenten\\\\Environmental Engineering MSc\\\\ENVM1502-Catchment-model\\\\Data\\\\3286005.csv',\n",
       " 'C:\\\\Users\\\\anne-\\\\OneDrive - Delft University of Technology\\\\Documenten\\\\Environmental Engineering MSc\\\\ENVM1502-Catchment-model\\\\Data\\\\precipitation_troylockdam.csv',\n",
       " 'C:\\\\Users\\\\anne-\\\\OneDrive - Delft University of Technology\\\\Documenten\\\\Environmental Engineering MSc\\\\ENVM1502-Catchment-model\\\\Data\\\\Q_ids_with_begin-end-date.csv']"
      ]
     },
     "execution_count": 25,
     "metadata": {},
     "output_type": "execute_result"
    }
   ],
   "source": [
    "files = glob.glob(f\"{data_folder}\\\\*.csv\")\n",
    "files"
   ]
  },
  {
   "cell_type": "code",
   "execution_count": 26,
   "metadata": {},
   "outputs": [
    {
     "data": {
      "text/html": [
       "<div>\n",
       "<style scoped>\n",
       "    .dataframe tbody tr th:only-of-type {\n",
       "        vertical-align: middle;\n",
       "    }\n",
       "\n",
       "    .dataframe tbody tr th {\n",
       "        vertical-align: top;\n",
       "    }\n",
       "\n",
       "    .dataframe thead th {\n",
       "        text-align: right;\n",
       "    }\n",
       "</style>\n",
       "<table border=\"1\" class=\"dataframe\">\n",
       "  <thead>\n",
       "    <tr style=\"text-align: right;\">\n",
       "      <th></th>\n",
       "      <th>STATION</th>\n",
       "      <th>LATITUDE</th>\n",
       "      <th>LONGITUDE</th>\n",
       "      <th>PRCP</th>\n",
       "    </tr>\n",
       "    <tr>\n",
       "      <th>DATE</th>\n",
       "      <th></th>\n",
       "      <th></th>\n",
       "      <th></th>\n",
       "      <th></th>\n",
       "    </tr>\n",
       "  </thead>\n",
       "  <tbody>\n",
       "    <tr>\n",
       "      <th>2021-09-13</th>\n",
       "      <td>US1NHHL0103</td>\n",
       "      <td>42.826</td>\n",
       "      <td>-71.82923</td>\n",
       "      <td>21.3</td>\n",
       "    </tr>\n",
       "    <tr>\n",
       "      <th>2021-09-14</th>\n",
       "      <td>US1NHHL0103</td>\n",
       "      <td>42.826</td>\n",
       "      <td>-71.82923</td>\n",
       "      <td>0.0</td>\n",
       "    </tr>\n",
       "    <tr>\n",
       "      <th>2021-09-15</th>\n",
       "      <td>US1NHHL0103</td>\n",
       "      <td>42.826</td>\n",
       "      <td>-71.82923</td>\n",
       "      <td>0.0</td>\n",
       "    </tr>\n",
       "    <tr>\n",
       "      <th>2021-09-16</th>\n",
       "      <td>US1NHHL0103</td>\n",
       "      <td>42.826</td>\n",
       "      <td>-71.82923</td>\n",
       "      <td>16.3</td>\n",
       "    </tr>\n",
       "    <tr>\n",
       "      <th>2021-09-17</th>\n",
       "      <td>US1NHHL0103</td>\n",
       "      <td>42.826</td>\n",
       "      <td>-71.82923</td>\n",
       "      <td>0.3</td>\n",
       "    </tr>\n",
       "    <tr>\n",
       "      <th>...</th>\n",
       "      <td>...</td>\n",
       "      <td>...</td>\n",
       "      <td>...</td>\n",
       "      <td>...</td>\n",
       "    </tr>\n",
       "    <tr>\n",
       "      <th>1995-01-27</th>\n",
       "      <td>USC00305769</td>\n",
       "      <td>43.200</td>\n",
       "      <td>-74.91667</td>\n",
       "      <td>2.0</td>\n",
       "    </tr>\n",
       "    <tr>\n",
       "      <th>1995-01-28</th>\n",
       "      <td>USC00305769</td>\n",
       "      <td>43.200</td>\n",
       "      <td>-74.91667</td>\n",
       "      <td>0.0</td>\n",
       "    </tr>\n",
       "    <tr>\n",
       "      <th>1995-01-29</th>\n",
       "      <td>USC00305769</td>\n",
       "      <td>43.200</td>\n",
       "      <td>-74.91667</td>\n",
       "      <td>0.0</td>\n",
       "    </tr>\n",
       "    <tr>\n",
       "      <th>1995-01-30</th>\n",
       "      <td>USC00305769</td>\n",
       "      <td>43.200</td>\n",
       "      <td>-74.91667</td>\n",
       "      <td>0.0</td>\n",
       "    </tr>\n",
       "    <tr>\n",
       "      <th>1995-01-31</th>\n",
       "      <td>USC00305769</td>\n",
       "      <td>43.200</td>\n",
       "      <td>-74.91667</td>\n",
       "      <td>0.0</td>\n",
       "    </tr>\n",
       "  </tbody>\n",
       "</table>\n",
       "<p>5324070 rows × 4 columns</p>\n",
       "</div>"
      ],
      "text/plain": [
       "                STATION  LATITUDE  LONGITUDE  PRCP\n",
       "DATE                                              \n",
       "2021-09-13  US1NHHL0103    42.826  -71.82923  21.3\n",
       "2021-09-14  US1NHHL0103    42.826  -71.82923   0.0\n",
       "2021-09-15  US1NHHL0103    42.826  -71.82923   0.0\n",
       "2021-09-16  US1NHHL0103    42.826  -71.82923  16.3\n",
       "2021-09-17  US1NHHL0103    42.826  -71.82923   0.3\n",
       "...                 ...       ...        ...   ...\n",
       "1995-01-27  USC00305769    43.200  -74.91667   2.0\n",
       "1995-01-28  USC00305769    43.200  -74.91667   0.0\n",
       "1995-01-29  USC00305769    43.200  -74.91667   0.0\n",
       "1995-01-30  USC00305769    43.200  -74.91667   0.0\n",
       "1995-01-31  USC00305769    43.200  -74.91667   0.0\n",
       "\n",
       "[5324070 rows x 4 columns]"
      ]
     },
     "execution_count": 26,
     "metadata": {},
     "output_type": "execute_result"
    }
   ],
   "source": [
    "data_P = pd.read_csv(files[1], index_col='DATE', usecols=['DATE', 'PRCP', 'STATION', 'LATITUDE', 'LONGITUDE'],  delimiter=',', parse_dates=True)\n",
    "data_P"
   ]
  },
  {
   "cell_type": "code",
   "execution_count": 27,
   "metadata": {},
   "outputs": [
    {
     "data": {
      "text/plain": [
       "['C:\\\\Users\\\\anne-\\\\OneDrive - Delft University of Technology\\\\Documenten\\\\Environmental Engineering MSc\\\\ENVM1502-Catchment-model\\\\Data\\\\P\\\\average_P.csv',\n",
       " 'C:\\\\Users\\\\anne-\\\\OneDrive - Delft University of Technology\\\\Documenten\\\\Environmental Engineering MSc\\\\ENVM1502-Catchment-model\\\\Data\\\\P\\\\locations_evap.csv',\n",
       " 'C:\\\\Users\\\\anne-\\\\OneDrive - Delft University of Technology\\\\Documenten\\\\Environmental Engineering MSc\\\\ENVM1502-Catchment-model\\\\Data\\\\P\\\\locations_P.csv',\n",
       " 'C:\\\\Users\\\\anne-\\\\OneDrive - Delft University of Technology\\\\Documenten\\\\Environmental Engineering MSc\\\\ENVM1502-Catchment-model\\\\Data\\\\P\\\\locations_prcp.csv',\n",
       " 'C:\\\\Users\\\\anne-\\\\OneDrive - Delft University of Technology\\\\Documenten\\\\Environmental Engineering MSc\\\\ENVM1502-Catchment-model\\\\Data\\\\P\\\\locations_P_in_basin.csv',\n",
       " 'C:\\\\Users\\\\anne-\\\\OneDrive - Delft University of Technology\\\\Documenten\\\\Environmental Engineering MSc\\\\ENVM1502-Catchment-model\\\\Data\\\\P\\\\location_northern_basin.csv']"
      ]
     },
     "execution_count": 27,
     "metadata": {},
     "output_type": "execute_result"
    }
   ],
   "source": [
    "files = glob.glob(f\"{data_folder}\\\\P\\\\*.csv\")\n",
    "files"
   ]
  },
  {
   "cell_type": "code",
   "execution_count": 28,
   "metadata": {},
   "outputs": [],
   "source": [
    "locations_basins = pd.read_csv(files[-1], usecols=['station ID']).values.tolist()\n",
    "locations_basins = np.stack( locations_basins, axis=1 )[0]\n",
    "\n",
    "dict_stations_P = split_df_station(data_P, locations_basins, 'prcp') #, create=True)"
   ]
  },
  {
   "cell_type": "code",
   "execution_count": 29,
   "metadata": {},
   "outputs": [],
   "source": [
    "df_list_prcp = list_dataframe(dict_stations_P, 'prcp')"
   ]
  },
  {
   "cell_type": "code",
   "execution_count": 30,
   "metadata": {},
   "outputs": [],
   "source": [
    "def average_data(df_lst, column):\n",
    "    \n",
    "    df_lst_data = []\n",
    "    \n",
    "    for i in range(len(df_lst)):\n",
    "        df_data = df_lst[i][column]\n",
    "        df_data.to_frame()\n",
    "        \n",
    "        df_lst_data.append(df_data)\n",
    "    \n",
    "    df = pd.concat(df_lst_data, axis=1)\n",
    "    df_avg = df.mean(axis=1).to_frame()\n",
    "    return df_avg\n",
    "\n",
    "\n",
    "    \n",
    "    "
   ]
  },
  {
   "cell_type": "code",
   "execution_count": 31,
   "metadata": {},
   "outputs": [],
   "source": [
    "average_prcp = average_data(df_list_prcp, 'PRCP')\n",
    "average_prcp.columns = ['P']\n",
    "average_prcp.columns"
   ]
  },
  {
   "cell_type": "code",
   "execution_count": 42,
   "metadata": {},
   "outputs": [],
   "source": [
    "average_prcp.to_parquet(f\"{data_folder}\\\\P\\\\average_P.parquet\")\n"
   ]
  },
  {
   "cell_type": "code",
   "execution_count": null,
   "metadata": {},
   "outputs": [],
   "source": [
    "fig, ax = plt.subplots(figsize=(15,6))\n",
    "average_prcp.loc['1900'::].plot(ax=ax)\n",
    "ax.set_ylabel('Precipitation [mm]')\n",
    "ax.set_title('Average Precipitation Stations in Basins');"
   ]
  },
  {
   "cell_type": "code",
   "execution_count": 22,
   "metadata": {},
   "outputs": [],
   "source": [
    "a = [1,2,3,4] \n",
    "b = [2,3,4,5]\n",
    "c=[]\n",
    "c+= a\n",
    "c+=b"
   ]
  },
  {
   "cell_type": "code",
   "execution_count": 33,
   "metadata": {},
   "outputs": [
    {
     "data": {
      "text/plain": [
       "24"
      ]
     },
     "execution_count": 33,
     "metadata": {},
     "output_type": "execute_result"
    }
   ],
   "source": [
    "sum(c)"
   ]
  },
  {
   "cell_type": "code",
   "execution_count": 30,
   "metadata": {},
   "outputs": [
    {
     "name": "stdout",
     "output_type": "stream",
     "text": [
      "1\n",
      "2\n",
      "3\n",
      "4\n",
      "5\n",
      "6\n",
      "7\n",
      "8\n",
      "9\n"
     ]
    }
   ],
   "source": [
    "for i in range(1, 10):\n",
    "    print(i)"
   ]
  },
  {
   "cell_type": "code",
   "execution_count": null,
   "metadata": {},
   "outputs": [],
   "source": []
  }
 ],
 "metadata": {
  "kernelspec": {
   "display_name": "Python 3 (ipykernel)",
   "language": "python",
   "name": "python3"
  },
  "language_info": {
   "codemirror_mode": {
    "name": "ipython",
    "version": 3
   },
   "file_extension": ".py",
   "mimetype": "text/x-python",
   "name": "python",
   "nbconvert_exporter": "python",
   "pygments_lexer": "ipython3",
   "version": "3.11.2"
  }
 },
 "nbformat": 4,
 "nbformat_minor": 4
}
