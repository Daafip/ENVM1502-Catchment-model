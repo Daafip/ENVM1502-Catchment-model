{
 "cells": [
  {
   "cell_type": "code",
   "execution_count": 3,
   "id": "b55bd1e5-a86b-48be-8849-4936f44859dd",
   "metadata": {},
   "outputs": [],
   "source": [
    "import pandas as pd\n",
    "import numpy as np\n",
    "import matplotlib.pyplot as plt\n",
    "import glob\n",
    "import os"
   ]
  },
  {
   "cell_type": "code",
   "execution_count": 5,
   "id": "23fa139b-fd82-44ee-b54b-98a19984b486",
   "metadata": {},
   "outputs": [],
   "source": [
    "path = os.getcwd()\n",
    "home_path = os.path.dirname(path)\n",
    "data_folder = f'{home_path}\\\\Data'"
   ]
  },
  {
   "cell_type": "code",
   "execution_count": 7,
   "id": "cd76d525-d9e1-4ea7-8274-67e7994bc8b0",
   "metadata": {},
   "outputs": [
    {
     "data": {
      "text/plain": [
       "['C:\\\\Users\\\\anne-\\\\OneDrive - Delft University of Technology\\\\Documenten\\\\Environmental Engineering MSc\\\\ENVM1502-Catchment-model\\\\Data\\\\EP\\\\14733.0.parquet',\n",
       " 'C:\\\\Users\\\\anne-\\\\OneDrive - Delft University of Technology\\\\Documenten\\\\Environmental Engineering MSc\\\\ENVM1502-Catchment-model\\\\Data\\\\EP\\\\14735.0.parquet',\n",
       " 'C:\\\\Users\\\\anne-\\\\OneDrive - Delft University of Technology\\\\Documenten\\\\Environmental Engineering MSc\\\\ENVM1502-Catchment-model\\\\Data\\\\EP\\\\14768.0.parquet',\n",
       " 'C:\\\\Users\\\\anne-\\\\OneDrive - Delft University of Technology\\\\Documenten\\\\Environmental Engineering MSc\\\\ENVM1502-Catchment-model\\\\Data\\\\EP\\\\14771.0.parquet',\n",
       " 'C:\\\\Users\\\\anne-\\\\OneDrive - Delft University of Technology\\\\Documenten\\\\Environmental Engineering MSc\\\\ENVM1502-Catchment-model\\\\Data\\\\EP\\\\4725.0.parquet',\n",
       " 'C:\\\\Users\\\\anne-\\\\OneDrive - Delft University of Technology\\\\Documenten\\\\Environmental Engineering MSc\\\\ENVM1502-Catchment-model\\\\Data\\\\EP\\\\94725.0.parquet',\n",
       " 'C:\\\\Users\\\\anne-\\\\OneDrive - Delft University of Technology\\\\Documenten\\\\Environmental Engineering MSc\\\\ENVM1502-Catchment-model\\\\Data\\\\EP\\\\94728.0.parquet']"
      ]
     },
     "execution_count": 7,
     "metadata": {},
     "output_type": "execute_result"
    }
   ],
   "source": [
    "files_E = glob.glob(f\"{data_folder}\\\\EP\\\\*.parquet\")\n",
    "files_E\n",
    "\n"
   ]
  },
  {
   "cell_type": "code",
   "execution_count": 18,
   "id": "7327ea7c-0198-41a8-976b-91060a05c0d8",
   "metadata": {},
   "outputs": [],
   "source": [
    "files_P = glob.glob(f\"{data_folder}\\\\P\\\\*.parquet\")\n",
    "files_P\n",
    "\n",
    "prcp = pd.read_parquet(files_P[0])"
   ]
  },
  {
   "cell_type": "code",
   "execution_count": 33,
   "id": "f07f8ab2-304d-49f8-a1c9-e9e50bf60b68",
   "metadata": {},
   "outputs": [],
   "source": [
    "files_Q = glob.glob(f\"{data_folder}\\\\Q\\\\*1358000.csv\")\n",
    "files_Q\n",
    "\n",
    "discharge = pd.read_csv(files_Q[0], usecols=['datetime', 'Q_m3_s_mean'], index_col=['datetime'], parse_dates=True)"
   ]
  },
  {
   "cell_type": "code",
   "execution_count": 34,
   "id": "0332a6d4-7d75-4979-be94-ef7dc58ed69e",
   "metadata": {},
   "outputs": [
    {
     "data": {
      "text/html": [
       "<div>\n",
       "<style scoped>\n",
       "    .dataframe tbody tr th:only-of-type {\n",
       "        vertical-align: middle;\n",
       "    }\n",
       "\n",
       "    .dataframe tbody tr th {\n",
       "        vertical-align: top;\n",
       "    }\n",
       "\n",
       "    .dataframe thead th {\n",
       "        text-align: right;\n",
       "    }\n",
       "</style>\n",
       "<table border=\"1\" class=\"dataframe\">\n",
       "  <thead>\n",
       "    <tr style=\"text-align: right;\">\n",
       "      <th></th>\n",
       "      <th>P</th>\n",
       "      <th>Q_m3_s_mean</th>\n",
       "    </tr>\n",
       "  </thead>\n",
       "  <tbody>\n",
       "    <tr>\n",
       "      <th>1880-07-28</th>\n",
       "      <td>0.0</td>\n",
       "      <td>NaN</td>\n",
       "    </tr>\n",
       "    <tr>\n",
       "      <th>1885-01-01</th>\n",
       "      <td>4.3</td>\n",
       "      <td>NaN</td>\n",
       "    </tr>\n",
       "    <tr>\n",
       "      <th>1885-01-02</th>\n",
       "      <td>0.0</td>\n",
       "      <td>NaN</td>\n",
       "    </tr>\n",
       "    <tr>\n",
       "      <th>1885-01-03</th>\n",
       "      <td>0.0</td>\n",
       "      <td>NaN</td>\n",
       "    </tr>\n",
       "    <tr>\n",
       "      <th>1885-01-04</th>\n",
       "      <td>0.0</td>\n",
       "      <td>NaN</td>\n",
       "    </tr>\n",
       "    <tr>\n",
       "      <th>...</th>\n",
       "      <td>...</td>\n",
       "      <td>...</td>\n",
       "    </tr>\n",
       "    <tr>\n",
       "      <th>2023-03-30</th>\n",
       "      <td>NaN</td>\n",
       "      <td>761.723174</td>\n",
       "    </tr>\n",
       "    <tr>\n",
       "      <th>2023-03-31</th>\n",
       "      <td>NaN</td>\n",
       "      <td>659.782526</td>\n",
       "    </tr>\n",
       "    <tr>\n",
       "      <th>2023-04-01</th>\n",
       "      <td>NaN</td>\n",
       "      <td>815.525182</td>\n",
       "    </tr>\n",
       "    <tr>\n",
       "      <th>2023-04-02</th>\n",
       "      <td>NaN</td>\n",
       "      <td>1432.832438</td>\n",
       "    </tr>\n",
       "    <tr>\n",
       "      <th>2023-04-03</th>\n",
       "      <td>NaN</td>\n",
       "      <td>1155.327341</td>\n",
       "    </tr>\n",
       "  </tbody>\n",
       "</table>\n",
       "<p>76193 rows × 2 columns</p>\n",
       "</div>"
      ],
      "text/plain": [
       "              P  Q_m3_s_mean\n",
       "1880-07-28  0.0          NaN\n",
       "1885-01-01  4.3          NaN\n",
       "1885-01-02  0.0          NaN\n",
       "1885-01-03  0.0          NaN\n",
       "1885-01-04  0.0          NaN\n",
       "...         ...          ...\n",
       "2023-03-30  NaN   761.723174\n",
       "2023-03-31  NaN   659.782526\n",
       "2023-04-01  NaN   815.525182\n",
       "2023-04-02  NaN  1432.832438\n",
       "2023-04-03  NaN  1155.327341\n",
       "\n",
       "[76193 rows x 2 columns]"
      ]
     },
     "execution_count": 34,
     "metadata": {},
     "output_type": "execute_result"
    }
   ],
   "source": [
    "df = pd.concat([evap, prcp, discharge])\n"
   ]
  },
  {
   "cell_type": "code",
   "execution_count": null,
   "id": "c398a7c8-c4ab-480f-b44e-b39deda11f3f",
   "metadata": {},
   "outputs": [],
   "source": []
  }
 ],
 "metadata": {
  "kernelspec": {
   "display_name": "Python 3 (ipykernel)",
   "language": "python",
   "name": "python3"
  },
  "language_info": {
   "codemirror_mode": {
    "name": "ipython",
    "version": 3
   },
   "file_extension": ".py",
   "mimetype": "text/x-python",
   "name": "python",
   "nbconvert_exporter": "python",
   "pygments_lexer": "ipython3",
   "version": "3.11.2"
  }
 },
 "nbformat": 4,
 "nbformat_minor": 5
}
