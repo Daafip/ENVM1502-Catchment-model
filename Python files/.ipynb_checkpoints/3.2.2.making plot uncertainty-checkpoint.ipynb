{
 "cells": [
  {
   "cell_type": "code",
   "execution_count": 2,
   "id": "45712ba5-0bb1-479b-805f-d5c60cc6f752",
   "metadata": {},
   "outputs": [],
   "source": [
    "import numpy       as np\n",
    "import matplotlib.pyplot as plt\n",
    "import numpy       as np\n",
    "import matplotlib as mpl\n",
    "import pandas as pd\n",
    "import glob \n",
    "import os\n",
    "import warnings\n",
    "warnings.filterwarnings('ignore')"
   ]
  },
  {
   "cell_type": "code",
   "execution_count": 3,
   "id": "c4872401-2fa7-4422-b5cf-eb33f3d06b7d",
   "metadata": {},
   "outputs": [],
   "source": [
    "path = os.getcwd()\n",
    "home_path = os.path.dirname(path)\n",
    "data_folder = f'{home_path}\\\\Data'\n",
    "files = glob.glob(f\"{data_folder}\\\\*.parquet\")\n",
    "df_data = pd.read_parquet(files[0]).dropna()"
   ]
  },
  {
   "cell_type": "code",
   "execution_count": 4,
   "id": "fa480192-1c42-415a-b04b-7ebbb7baf09e",
   "metadata": {},
   "outputs": [],
   "source": [
    "#df_data = pd.read_parquet(files[0]).dropna()\n",
    "files = glob.glob(f\"{data_folder}\\\\EP\\\\combined*.parquet\")\n",
    "df_EP = pd.read_parquet(files[1]).dropna()"
   ]
  },
  {
   "cell_type": "code",
   "execution_count": 5,
   "id": "a4e6b8a7-77c1-43ca-b64e-f65077b7962c",
   "metadata": {},
   "outputs": [
    {
     "data": {
      "text/html": [
       "<div>\n",
       "<style scoped>\n",
       "    .dataframe tbody tr th:only-of-type {\n",
       "        vertical-align: middle;\n",
       "    }\n",
       "\n",
       "    .dataframe tbody tr th {\n",
       "        vertical-align: top;\n",
       "    }\n",
       "\n",
       "    .dataframe thead th {\n",
       "        text-align: right;\n",
       "    }\n",
       "</style>\n",
       "<table border=\"1\" class=\"dataframe\">\n",
       "  <thead>\n",
       "    <tr style=\"text-align: right;\">\n",
       "      <th></th>\n",
       "      <th>T</th>\n",
       "      <th>Pev</th>\n",
       "      <th>P</th>\n",
       "      <th>Q</th>\n",
       "      <th>Pe</th>\n",
       "    </tr>\n",
       "  </thead>\n",
       "  <tbody>\n",
       "    <tr>\n",
       "      <th>1980-01-01</th>\n",
       "      <td>-4.244118</td>\n",
       "      <td>0.212411</td>\n",
       "      <td>0.000000</td>\n",
       "      <td>1.432909</td>\n",
       "      <td>0.212411</td>\n",
       "    </tr>\n",
       "    <tr>\n",
       "      <th>1980-01-02</th>\n",
       "      <td>-3.066830</td>\n",
       "      <td>0.167835</td>\n",
       "      <td>0.000000</td>\n",
       "      <td>1.367777</td>\n",
       "      <td>0.167835</td>\n",
       "    </tr>\n",
       "    <tr>\n",
       "      <th>1980-01-03</th>\n",
       "      <td>-6.372549</td>\n",
       "      <td>0.235660</td>\n",
       "      <td>0.023756</td>\n",
       "      <td>1.335211</td>\n",
       "      <td>0.235660</td>\n",
       "    </tr>\n",
       "    <tr>\n",
       "      <th>1980-01-04</th>\n",
       "      <td>-10.202124</td>\n",
       "      <td>0.167202</td>\n",
       "      <td>0.000000</td>\n",
       "      <td>1.253795</td>\n",
       "      <td>0.167202</td>\n",
       "    </tr>\n",
       "    <tr>\n",
       "      <th>1980-01-05</th>\n",
       "      <td>-7.726471</td>\n",
       "      <td>0.192151</td>\n",
       "      <td>0.000000</td>\n",
       "      <td>1.179358</td>\n",
       "      <td>0.192151</td>\n",
       "    </tr>\n",
       "  </tbody>\n",
       "</table>\n",
       "</div>"
      ],
      "text/plain": [
       "                    T       Pev         P         Q        Pe\n",
       "1980-01-01  -4.244118  0.212411  0.000000  1.432909  0.212411\n",
       "1980-01-02  -3.066830  0.167835  0.000000  1.367777  0.167835\n",
       "1980-01-03  -6.372549  0.235660  0.023756  1.335211  0.235660\n",
       "1980-01-04 -10.202124  0.167202  0.000000  1.253795  0.167202\n",
       "1980-01-05  -7.726471  0.192151  0.000000  1.179358  0.192151"
      ]
     },
     "execution_count": 5,
     "metadata": {},
     "output_type": "execute_result"
    }
   ],
   "source": [
    "df_data_comb = pd.concat([df_data, df_EP], axis=1)\n",
    "df_data_comb.dropna(inplace=True)\n",
    "df_data_comb.head()"
   ]
  },
  {
   "cell_type": "code",
   "execution_count": 71,
   "id": "b952835d-601c-4bc2-8797-770a3c6d1a7b",
   "metadata": {},
   "outputs": [],
   "source": [
    "files = glob.glob(f\"{data_folder}\\\\*_NSEnorm.txt\")\n",
    "para_lst = []\n",
    "for i in np.arange(1,9,2):\n",
    "    df = pd.read_csv(files[i], names=['Imax' , 'Ce' , 'Sumax' , 'beta', 'Pmax',    'Tlag',    'Kf',  'Ks', 'NSE'])\n",
    "    a = df.NSE.values\n",
    "    max_arg = a.argmax()\n",
    "    opt_par = df.iloc[max_arg]\n",
    "    para_lst.append(opt_par)\n",
    "    "
   ]
  },
  {
   "cell_type": "code",
   "execution_count": 73,
   "id": "dee3a475-8aec-4b1e-b1ef-b0710c129a54",
   "metadata": {},
   "outputs": [
    {
     "data": {
      "text/plain": [
       "['C:\\\\Users\\\\anne-\\\\OneDrive - Delft University of Technology\\\\Documenten\\\\Environmental Engineering MSc\\\\ENVM1502-Catchment-model\\\\Data\\\\MC2_before_1980_1983_df_NSEnorm.txt',\n",
       " 'C:\\\\Users\\\\anne-\\\\OneDrive - Delft University of Technology\\\\Documenten\\\\Environmental Engineering MSc\\\\ENVM1502-Catchment-model\\\\Data\\\\MC2_before_1980_1983_NSEnorm.txt',\n",
       " 'C:\\\\Users\\\\anne-\\\\OneDrive - Delft University of Technology\\\\Documenten\\\\Environmental Engineering MSc\\\\ENVM1502-Catchment-model\\\\Data\\\\MC2_before_1988_1991_df_NSEnorm.txt',\n",
       " 'C:\\\\Users\\\\anne-\\\\OneDrive - Delft University of Technology\\\\Documenten\\\\Environmental Engineering MSc\\\\ENVM1502-Catchment-model\\\\Data\\\\MC2_before_1988_1991_NSEnorm.txt',\n",
       " 'C:\\\\Users\\\\anne-\\\\OneDrive - Delft University of Technology\\\\Documenten\\\\Environmental Engineering MSc\\\\ENVM1502-Catchment-model\\\\Data\\\\MC2_before_1996_1999_df_NSEnorm.txt',\n",
       " 'C:\\\\Users\\\\anne-\\\\OneDrive - Delft University of Technology\\\\Documenten\\\\Environmental Engineering MSc\\\\ENVM1502-Catchment-model\\\\Data\\\\MC2_before_1996_1999_NSEnorm.txt',\n",
       " 'C:\\\\Users\\\\anne-\\\\OneDrive - Delft University of Technology\\\\Documenten\\\\Environmental Engineering MSc\\\\ENVM1502-Catchment-model\\\\Data\\\\MC2_before_2004_2007_df_NSEnorm.txt',\n",
       " 'C:\\\\Users\\\\anne-\\\\OneDrive - Delft University of Technology\\\\Documenten\\\\Environmental Engineering MSc\\\\ENVM1502-Catchment-model\\\\Data\\\\MC2_before_2004_2007_NSEnorm.txt',\n",
       " 'C:\\\\Users\\\\anne-\\\\OneDrive - Delft University of Technology\\\\Documenten\\\\Environmental Engineering MSc\\\\ENVM1502-Catchment-model\\\\Data\\\\MC2_before_2012_2015_df_NSEnorm.txt',\n",
       " 'C:\\\\Users\\\\anne-\\\\OneDrive - Delft University of Technology\\\\Documenten\\\\Environmental Engineering MSc\\\\ENVM1502-Catchment-model\\\\Data\\\\MC2_before_2012_2015_NSEnorm.txt']"
      ]
     },
     "execution_count": 73,
     "metadata": {},
     "output_type": "execute_result"
    }
   ],
   "source": [
    "para_lst\n"
   ]
  },
  {
   "cell_type": "code",
   "execution_count": 65,
   "id": "843f1ec3-3f0d-4997-9687-91786e779c81",
   "metadata": {},
   "outputs": [
    {
     "data": {
      "text/plain": [
       "886"
      ]
     },
     "execution_count": 65,
     "metadata": {},
     "output_type": "execute_result"
    }
   ],
   "source": []
  },
  {
   "cell_type": "code",
   "execution_count": 68,
   "id": "326bd383-b27c-44fc-82ef-6687ea5b5fe1",
   "metadata": {},
   "outputs": [
    {
     "data": {
      "text/plain": [
       "Imax      1.152822\n",
       "Ce        0.801449\n",
       "Sumax    88.773014\n",
       "beta      0.956000\n",
       "Pmax      0.350425\n",
       "Tlag      2.182450\n",
       "Kf        0.145487\n",
       "Ks        0.116494\n",
       "NSE       0.562038\n",
       "Name: 886, dtype: float64"
      ]
     },
     "execution_count": 68,
     "metadata": {},
     "output_type": "execute_result"
    }
   ],
   "source": []
  },
  {
   "cell_type": "code",
   "execution_count": null,
   "id": "0c0a3c51-727e-4a2b-902d-64323664e8c2",
   "metadata": {},
   "outputs": [],
   "source": []
  }
 ],
 "metadata": {
  "kernelspec": {
   "display_name": "Python 3 (ipykernel)",
   "language": "python",
   "name": "python3"
  },
  "language_info": {
   "codemirror_mode": {
    "name": "ipython",
    "version": 3
   },
   "file_extension": ".py",
   "mimetype": "text/x-python",
   "name": "python",
   "nbconvert_exporter": "python",
   "pygments_lexer": "ipython3",
   "version": "3.11.0"
  }
 },
 "nbformat": 4,
 "nbformat_minor": 5
}
