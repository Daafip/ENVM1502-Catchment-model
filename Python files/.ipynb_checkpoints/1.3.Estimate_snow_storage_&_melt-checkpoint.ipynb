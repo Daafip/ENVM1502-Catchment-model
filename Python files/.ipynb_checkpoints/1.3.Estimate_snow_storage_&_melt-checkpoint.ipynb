{
 "cells": [
  {
   "cell_type": "code",
   "execution_count": 4,
   "id": "e836af4f-7be5-4f2b-b595-dcff8bed1ef2",
   "metadata": {},
   "outputs": [],
   "source": [
    "import numpy as np\n",
    "import pandas as pd\n",
    "import matplotlib.pyplot as plt\n",
    "import datetime\n",
    "import glob\n",
    "import os"
   ]
  },
  {
   "cell_type": "code",
   "execution_count": 5,
   "id": "dc04961e-b5ca-407b-b41e-ba285ed7c936",
   "metadata": {},
   "outputs": [],
   "source": [
    "path = os.getcwd()\n",
    "home_path = os.path.dirname(path)\n",
    "gis_folder = f'{home_path}\\\\GIS'\n",
    "data_folder = f'{home_path}\\\\Data'"
   ]
  },
  {
   "cell_type": "code",
   "execution_count": 6,
   "id": "d1be0239-efb3-4a9e-9c0d-83fdf1008b6f",
   "metadata": {},
   "outputs": [
    {
     "data": {
      "text/plain": [
       "['C:\\\\Users\\\\david\\\\Documents\\\\@@ Python\\\\Jaar 5\\\\Q3\\\\ENVM1502\\\\Git\\\\ENVM1502-Catchment-model\\\\Data\\\\combined_data.parquet']"
      ]
     },
     "execution_count": 6,
     "metadata": {},
     "output_type": "execute_result"
    }
   ],
   "source": [
    "files = glob.glob(f\"{data_folder}\\\\*.parquet\")\n",
    "files\n"
   ]
  },
  {
   "cell_type": "code",
   "execution_count": null,
   "id": "c86ec622-186b-49fb-b220-d9f6f22a5670",
   "metadata": {},
   "outputs": [],
   "source": []
  }
 ],
 "metadata": {
  "kernelspec": {
   "display_name": "Python 3 (ipykernel)",
   "language": "python",
   "name": "python3"
  },
  "language_info": {
   "codemirror_mode": {
    "name": "ipython",
    "version": 3
   },
   "file_extension": ".py",
   "mimetype": "text/x-python",
   "name": "python",
   "nbconvert_exporter": "python",
   "pygments_lexer": "ipython3",
   "version": "3.11.0"
  }
 },
 "nbformat": 4,
 "nbformat_minor": 5
}
