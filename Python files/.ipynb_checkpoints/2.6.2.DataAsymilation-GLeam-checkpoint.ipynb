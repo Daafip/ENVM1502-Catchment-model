{
 "cells": [
  {
   "cell_type": "code",
   "execution_count": 10,
   "id": "0aa78f61-089e-432f-8b08-65e9b563ea88",
   "metadata": {},
   "outputs": [],
   "source": [
    "import xarray as xr\n",
    "import matplotlib.pyplot as plt\n",
    "import cdsapi\n",
    "import glob\n",
    "import pandas as pd\n",
    "import numpy as np\n",
    "import os\n",
    "import geopandas as gpd\n",
    "import regionmask "
   ]
  },
  {
   "cell_type": "code",
   "execution_count": 12,
   "id": "18a2546b-483d-4a54-a79f-bcb66a9fac05",
   "metadata": {},
   "outputs": [],
   "source": [
    "path = os.getcwd()\n",
    "home_path = os.path.dirname(path)\n",
    "data_folder = f'{home_path}\\\\Data'\n",
    "gis_folder = f'{home_path}\\\\GIS'"
   ]
  },
  {
   "cell_type": "code",
   "execution_count": 13,
   "id": "fdca4a39-fb61-4564-bcdf-30bece9a3e78",
   "metadata": {},
   "outputs": [],
   "source": [
    "# loading other layers\n",
    "outline           = gpd.read_file(f\"{gis_folder}\\\\hudson_basin_26918.gpkg\",driver=\"GPKG\",crs=\"EPSG:26918\") \n",
    "outline_buffered  = gpd.read_file(f\"{gis_folder}\\\\hudson_basin_buffered.gpkg\",crs=\"EPSG:26918\")\n",
    "\n",
    "# fixing crs\n",
    "for layer in [outline,outline_buffered]:\n",
    "    layer.geometry = layer.geometry.to_crs(\"EPSG:4326\")"
   ]
  },
  {
   "cell_type": "markdown",
   "id": "e9ce8123-e05e-4df0-9329-fc1e337f141a",
   "metadata": {},
   "source": [
    "Gleam data from https://www.gleam.eu/#datasets, too large to add to repo so locally extracted"
   ]
  },
  {
   "cell_type": "code",
   "execution_count": 15,
   "id": "454fbe1f-075c-48d0-8c9d-3812810aecfe",
   "metadata": {},
   "outputs": [],
   "source": [
    "ds_gleam = xr.load_dataset(\"C:\\\\Users\\\\david\\\\Documents\\\\EP_data_ENVM1502\\\\Ep_1980-2022_GLEAM_v3.7a_MO.nc\")"
   ]
  },
  {
   "cell_type": "code",
   "execution_count": 16,
   "id": "329b20e7-43ba-4de6-8518-3b0c26892641",
   "metadata": {},
   "outputs": [],
   "source": [
    "mask = regionmask.mask_geopandas(outline_buffered, \n",
    "                                 ds['Ep'].lon.to_numpy(), \n",
    "                                 ds['Ep'].lat.to_numpy(),\n",
    "                                 lon_name=\"lon\",\n",
    "                                 lat_name=\"lat\")"
   ]
  },
  {
   "cell_type": "code",
   "execution_count": 17,
   "id": "a64f28fa-061d-4407-a7e8-a3f7507c6034",
   "metadata": {},
   "outputs": [],
   "source": [
    "cropped_ds_gleam = ds_gleam.where(mask==0)"
   ]
  },
  {
   "cell_type": "code",
   "execution_count": 32,
   "id": "816d3594-d349-4f7b-911d-6f270594790c",
   "metadata": {},
   "outputs": [],
   "source": [
    "mean_gleam = cropped_ds_gleam.mean(dim=[\"lat\",\"lon\"])"
   ]
  },
  {
   "cell_type": "code",
   "execution_count": 48,
   "id": "6f9e2006-3e3f-4837-b03a-c7a955170a9b",
   "metadata": {},
   "outputs": [],
   "source": [
    "df_gleam = pd.DataFrame(mean_gleam.Ep.to_pandas(),columns=[\"Pe\"])\n",
    "df_gleam.index.name=\"Monthly sum evap\""
   ]
  },
  {
   "cell_type": "code",
   "execution_count": 51,
   "id": "835cb8e3-f240-400e-8756-72ec3eb8909d",
   "metadata": {},
   "outputs": [],
   "source": [
    "df_gleam.to_parquet(f'{home_path}\\\\Data\\\\EP\\\\GLEAM.parquet')"
   ]
  },
  {
   "cell_type": "code",
   "execution_count": null,
   "id": "8e5ca12e-6a0a-4fe9-9e4d-2c57c29c16fa",
   "metadata": {},
   "outputs": [],
   "source": []
  }
 ],
 "metadata": {
  "kernelspec": {
   "display_name": "Python 3 (ipykernel)",
   "language": "python",
   "name": "python3"
  },
  "language_info": {
   "codemirror_mode": {
    "name": "ipython",
    "version": 3
   },
   "file_extension": ".py",
   "mimetype": "text/x-python",
   "name": "python",
   "nbconvert_exporter": "python",
   "pygments_lexer": "ipython3",
   "version": "3.11.0"
  }
 },
 "nbformat": 4,
 "nbformat_minor": 5
}
