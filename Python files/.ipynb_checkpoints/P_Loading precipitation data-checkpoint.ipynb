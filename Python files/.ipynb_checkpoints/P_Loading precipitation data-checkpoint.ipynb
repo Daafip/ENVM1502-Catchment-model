{
 "cells": [
  {
   "cell_type": "code",
   "execution_count": 1,
   "metadata": {},
   "outputs": [],
   "source": [
    "import numpy as np\n",
    "import pandas as pd\n",
    "import matplotlib.pyplot as plt\n",
    "import os\n",
    "import glob\n",
    "import fastparquet"
   ]
  },
  {
   "cell_type": "code",
   "execution_count": 19,
   "metadata": {},
   "outputs": [],
   "source": [
    "def get_location(data, sort, create=False):\n",
    "    unique_station = data.STATION.unique()\n",
    "    unique_lat = np.zeros(len(unique_station))\n",
    "    unique_lon = np.zeros(len(unique_station))\n",
    "    \n",
    "    for index, station in enumerate(unique_station):\n",
    "        unique_lat[index] = data[data.STATION == station].LATITUDE[0]\n",
    "        unique_lon[index] = data[data.STATION == station].LONGITUDE[0]\n",
    "        \n",
    "    \n",
    "    locations = pd.DataFrame([unique_station, unique_lat, unique_lon]).T\n",
    "\n",
    "    locations = locations.rename({0:'station ID', 1:'lat', 2:'lon'}, axis='columns')\n",
    "    \n",
    "    if create == True:\n",
    "        locations.to_csv(f'{data_folder}\\\\locations_{sort}.csv')\n",
    "        return locations\n",
    "    return locations"
   ]
  },
  {
   "cell_type": "code",
   "execution_count": 3,
   "metadata": {},
   "outputs": [],
   "source": [
    "def split_df_station(data, locations, sort, create=False):\n",
    "    locations = np.array(locations)\n",
    "    #unique_station = data.STATION.unique()\n",
    "    #create a data frame dictionary to store your data frames\n",
    "    DataFrameDict = {x : pd.DataFrame() for x in locations}\n",
    "\n",
    "    for key in DataFrameDict.keys():\n",
    "        DataFrameDict[key] = data[:][data.STATION == key]\n",
    "        if create == True:\n",
    "            DataFrameDict[key].to_csv(f'{data_folder}\\\\data per station\\\\data_{key}_{sort}.csv')\n",
    "    return DataFrameDict\n",
    "    "
   ]
  },
  {
   "cell_type": "code",
   "execution_count": 13,
   "metadata": {},
   "outputs": [],
   "source": [
    "def list_dataframe(dict_data, sort):\n",
    "    df_list = []\n",
    "    for name in dict_data.keys():\n",
    "        DF = pd.read_csv(f'{data_folder}\\\\data per station\\\\data_{name}_{sort}.csv', index_col='DATE', parse_dates=True)\n",
    "        df_list.append(DF)\n",
    "    return df_list"
   ]
  },
  {
   "cell_type": "code",
   "execution_count": 5,
   "metadata": {},
   "outputs": [],
   "source": [
    "path = os.getcwd()\n",
    "home_path = os.path.dirname(path)\n",
    "data_folder = f'{home_path}\\\\Data'"
   ]
  },
  {
   "cell_type": "code",
   "execution_count": 6,
   "metadata": {},
   "outputs": [
    {
     "data": {
      "text/plain": [
       "['C:\\\\Users\\\\anne-\\\\OneDrive - Delft University of Technology\\\\Documenten\\\\Environmental Engineering MSc\\\\ENVM1502-Catchment-model\\\\Data\\\\3285895.csv',\n",
       " 'C:\\\\Users\\\\anne-\\\\OneDrive - Delft University of Technology\\\\Documenten\\\\Environmental Engineering MSc\\\\ENVM1502-Catchment-model\\\\Data\\\\3286005.csv',\n",
       " 'C:\\\\Users\\\\anne-\\\\OneDrive - Delft University of Technology\\\\Documenten\\\\Environmental Engineering MSc\\\\ENVM1502-Catchment-model\\\\Data\\\\precipitation_troylockdam.csv',\n",
       " 'C:\\\\Users\\\\anne-\\\\OneDrive - Delft University of Technology\\\\Documenten\\\\Environmental Engineering MSc\\\\ENVM1502-Catchment-model\\\\Data\\\\Q_ids_with_begin-end-date.csv']"
      ]
     },
     "execution_count": 6,
     "metadata": {},
     "output_type": "execute_result"
    }
   ],
   "source": [
    "files = glob.glob(f\"{data_folder}\\\\*.csv\")\n",
    "files"
   ]
  },
  {
   "cell_type": "code",
   "execution_count": 22,
   "metadata": {},
   "outputs": [
    {
     "ename": "IndexError",
     "evalue": "list index out of range",
     "output_type": "error",
     "traceback": [
      "\u001b[1;31m---------------------------------------------------------------------------\u001b[0m",
      "\u001b[1;31mIndexError\u001b[0m                                Traceback (most recent call last)",
      "Cell \u001b[1;32mIn[22], line 1\u001b[0m\n\u001b[1;32m----> 1\u001b[0m data_P \u001b[38;5;241m=\u001b[39m pd\u001b[38;5;241m.\u001b[39mread_csv(files[\u001b[38;5;241m1\u001b[39m], index_col\u001b[38;5;241m=\u001b[39m\u001b[38;5;124m'\u001b[39m\u001b[38;5;124mDATE\u001b[39m\u001b[38;5;124m'\u001b[39m, usecols\u001b[38;5;241m=\u001b[39m[\u001b[38;5;124m'\u001b[39m\u001b[38;5;124mDATE\u001b[39m\u001b[38;5;124m'\u001b[39m, \u001b[38;5;124m'\u001b[39m\u001b[38;5;124mPRCP\u001b[39m\u001b[38;5;124m'\u001b[39m, \u001b[38;5;124m'\u001b[39m\u001b[38;5;124mSTATION\u001b[39m\u001b[38;5;124m'\u001b[39m, \u001b[38;5;124m'\u001b[39m\u001b[38;5;124mLATITUDE\u001b[39m\u001b[38;5;124m'\u001b[39m, \u001b[38;5;124m'\u001b[39m\u001b[38;5;124mLONGITUDE\u001b[39m\u001b[38;5;124m'\u001b[39m],  delimiter\u001b[38;5;241m=\u001b[39m\u001b[38;5;124m'\u001b[39m\u001b[38;5;124m,\u001b[39m\u001b[38;5;124m'\u001b[39m, parse_dates\u001b[38;5;241m=\u001b[39m\u001b[38;5;28;01mTrue\u001b[39;00m)\n",
      "\u001b[1;31mIndexError\u001b[0m: list index out of range"
     ]
    }
   ],
   "source": [
    "data_P = pd.read_csv(files[1], index_col='DATE', usecols=['DATE', 'PRCP', 'STATION', 'LATITUDE', 'LONGITUDE'],  delimiter=',', parse_dates=True)\n"
   ]
  },
  {
   "cell_type": "code",
   "execution_count": 8,
   "metadata": {},
   "outputs": [
    {
     "data": {
      "text/plain": [
       "['C:\\\\Users\\\\anne-\\\\OneDrive - Delft University of Technology\\\\Documenten\\\\Environmental Engineering MSc\\\\ENVM1502-Catchment-model\\\\Data\\\\P\\\\average_P.csv',\n",
       " 'C:\\\\Users\\\\anne-\\\\OneDrive - Delft University of Technology\\\\Documenten\\\\Environmental Engineering MSc\\\\ENVM1502-Catchment-model\\\\Data\\\\P\\\\locations_evap.csv',\n",
       " 'C:\\\\Users\\\\anne-\\\\OneDrive - Delft University of Technology\\\\Documenten\\\\Environmental Engineering MSc\\\\ENVM1502-Catchment-model\\\\Data\\\\P\\\\locations_P.csv',\n",
       " 'C:\\\\Users\\\\anne-\\\\OneDrive - Delft University of Technology\\\\Documenten\\\\Environmental Engineering MSc\\\\ENVM1502-Catchment-model\\\\Data\\\\P\\\\locations_prcp.csv',\n",
       " 'C:\\\\Users\\\\anne-\\\\OneDrive - Delft University of Technology\\\\Documenten\\\\Environmental Engineering MSc\\\\ENVM1502-Catchment-model\\\\Data\\\\P\\\\locations_P_in_basin.csv',\n",
       " 'C:\\\\Users\\\\anne-\\\\OneDrive - Delft University of Technology\\\\Documenten\\\\Environmental Engineering MSc\\\\ENVM1502-Catchment-model\\\\Data\\\\P\\\\location_northern_basin.csv']"
      ]
     },
     "execution_count": 8,
     "metadata": {},
     "output_type": "execute_result"
    }
   ],
   "source": [
    "files = glob.glob(f\"{data_folder}\\\\P\\\\*.csv\")\n",
    "files"
   ]
  },
  {
   "cell_type": "code",
   "execution_count": null,
   "metadata": {},
   "outputs": [],
   "source": [
    "locations_basins = pd.read_csv(files[-1], usecols=['station ID']).values.tolist()\n",
    "locations_basins = np.stack( locations_basins, axis=1 )[0]\n",
    "\n",
    "dict_stations_P = split_df_station(data_P, locations_basins, 'prcp') #, create=True)"
   ]
  },
  {
   "cell_type": "code",
   "execution_count": null,
   "metadata": {},
   "outputs": [],
   "source": [
    "df_list_prcp = list_dataframe(dict_stations_P, 'prcp')"
   ]
  },
  {
   "cell_type": "code",
   "execution_count": null,
   "metadata": {},
   "outputs": [],
   "source": [
    "def average_data(df_lst, column):\n",
    "    \n",
    "    df_lst_data = []\n",
    "    \n",
    "    for i in range(len(df_lst)):\n",
    "        df_data = df_lst[i][column]\n",
    "        df_data.to_frame()\n",
    "        \n",
    "        df_lst_data.append(df_data)\n",
    "    \n",
    "    df = pd.concat(df_lst_data, axis=1)\n",
    "    df_avg = df.mean(axis=1).to_frame()\n",
    "    return df_avg\n",
    "\n",
    "\n",
    "    \n",
    "    "
   ]
  },
  {
   "cell_type": "code",
   "execution_count": null,
   "metadata": {},
   "outputs": [],
   "source": [
    "average_prcp = average_data(df_list_prcp, 'PRCP')\n",
    "average_prcp.columns = ['P']\n",
    "average_prcp.columns"
   ]
  },
  {
   "cell_type": "code",
   "execution_count": null,
   "metadata": {},
   "outputs": [],
   "source": [
    "average_prcp.to_parquet(f\"{data_folder}\\\\P\\\\average_P.parquet\")\n"
   ]
  },
  {
   "cell_type": "code",
   "execution_count": null,
   "metadata": {},
   "outputs": [],
   "source": [
    "fig, ax = plt.subplots(figsize=(15,6))\n",
    "average_prcp.loc['1900'::].plot(ax=ax)\n",
    "ax.set_ylabel('Precipitation [mm]')\n",
    "ax.set_title('Average Precipitation Stations in Basins');"
   ]
  },
  {
   "cell_type": "code",
   "execution_count": null,
   "metadata": {},
   "outputs": [],
   "source": [
    "a = [1,2,3,4] \n",
    "b = [2,3,4,5]\n",
    "c=[]\n",
    "c+= a\n",
    "c+=b"
   ]
  },
  {
   "cell_type": "code",
   "execution_count": null,
   "metadata": {},
   "outputs": [],
   "source": [
    "sum(c)"
   ]
  },
  {
   "cell_type": "code",
   "execution_count": null,
   "metadata": {},
   "outputs": [],
   "source": [
    "for i in range(1, 10):\n",
    "    print(i)"
   ]
  },
  {
   "cell_type": "code",
   "execution_count": 9,
   "metadata": {},
   "outputs": [
    {
     "data": {
      "text/plain": [
       "['C:\\\\Users\\\\anne-\\\\OneDrive - Delft University of Technology\\\\Documenten\\\\Environmental Engineering MSc\\\\ENVM1502-Catchment-model\\\\Data\\\\T\\\\3292614.csv']"
      ]
     },
     "execution_count": 9,
     "metadata": {},
     "output_type": "execute_result"
    }
   ],
   "source": [
    "path = os.getcwd()\n",
    "home_path = os.path.dirname(path)\n",
    "data_folder = f'{home_path}\\\\Data\\\\T'\n",
    "files = glob.glob(f\"{data_folder}\\\\*.csv\")\n",
    "files"
   ]
  },
  {
   "cell_type": "code",
   "execution_count": 23,
   "metadata": {},
   "outputs": [],
   "source": [
    "data_T = pd.read_csv(files[0],  delimiter=',', index_col=['DATE'], parse_dates=True)\n"
   ]
  },
  {
   "cell_type": "code",
   "execution_count": 11,
   "metadata": {},
   "outputs": [],
   "source": [
    "locations = data_T.STATION.unique()\n",
    "dict_stations_T = split_df_station(data_T, locations, 'temp')#, create=True)\n"
   ]
  },
  {
   "cell_type": "code",
   "execution_count": 14,
   "metadata": {},
   "outputs": [],
   "source": [
    "df_list_temp = list_dataframe(dict_stations_T, 'temp')"
   ]
  },
  {
   "cell_type": "code",
   "execution_count": 16,
   "metadata": {},
   "outputs": [],
   "source": [
    "for i in range(len(df_list_temp)):\n",
    "    df_list_temp[i].to_parquet(f'{data_folder}\\\\data\\\\data_{i}.parquet')"
   ]
  },
  {
   "cell_type": "code",
   "execution_count": 20,
   "metadata": {},
   "outputs": [],
   "source": [
    "location_temp = get_location(data_T, 'temp')#, create=True)"
   ]
  }
 ],
 "metadata": {
  "kernelspec": {
   "display_name": "Python 3 (ipykernel)",
   "language": "python",
   "name": "python3"
  },
  "language_info": {
   "codemirror_mode": {
    "name": "ipython",
    "version": 3
   },
   "file_extension": ".py",
   "mimetype": "text/x-python",
   "name": "python",
   "nbconvert_exporter": "python",
   "pygments_lexer": "ipython3",
   "version": "3.11.2"
  }
 },
 "nbformat": 4,
 "nbformat_minor": 4
}
