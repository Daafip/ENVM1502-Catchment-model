{
 "cells": [
  {
   "cell_type": "code",
   "execution_count": 1,
   "metadata": {
    "id": "a0O5iYfsmlEd"
   },
   "outputs": [],
   "source": [
    "import pandas as pd\n",
    "import ee\n",
    "import os"
   ]
  },
  {
   "cell_type": "code",
   "execution_count": 2,
   "metadata": {},
   "outputs": [],
   "source": [
    "path = os.getcwd()\n",
    "home_path = os.path.dirname(path)\n",
    "gis_folder = f'{home_path}\\\\GIS'\n",
    "data_folder = f'{home_path}\\\\Data'"
   ]
  },
  {
   "cell_type": "code",
   "execution_count": 4,
   "metadata": {
    "colab": {
     "base_uri": "https://localhost:8080/"
    },
    "id": "yxvmyre6huFJ",
    "outputId": "be29b636-3400-4c7b-f16c-5fe2e9b764b7"
   },
   "outputs": [
    {
     "data": {
      "text/html": [
       "<p>To authorize access needed by Earth Engine, open the following\n",
       "        URL in a web browser and follow the instructions:</p>\n",
       "        <p><a href=https://code.earthengine.google.com/client-auth?scopes=https%3A//www.googleapis.com/auth/earthengine%20https%3A//www.googleapis.com/auth/devstorage.full_control&request_id=Xjad5qK3yIpL-3RROckBgcy6WcbTNdR-WTuQYOHaquA&tc=UcdJBNwLmaAJCt2O_bVuQodszrEO0JwQ_-VGvw5TF9g&cc=QTNRgymAqJNAC2lhagTVQEZ-k8B3vqbKl2EotxA7zCc>https://code.earthengine.google.com/client-auth?scopes=https%3A//www.googleapis.com/auth/earthengine%20https%3A//www.googleapis.com/auth/devstorage.full_control&request_id=Xjad5qK3yIpL-3RROckBgcy6WcbTNdR-WTuQYOHaquA&tc=UcdJBNwLmaAJCt2O_bVuQodszrEO0JwQ_-VGvw5TF9g&cc=QTNRgymAqJNAC2lhagTVQEZ-k8B3vqbKl2EotxA7zCc</a></p>\n",
       "        <p>The authorization workflow will generate a code, which you should paste in the box below.</p>\n",
       "        "
      ],
      "text/plain": [
       "<IPython.core.display.HTML object>"
      ]
     },
     "metadata": {},
     "output_type": "display_data"
    },
    {
     "name": "stdin",
     "output_type": "stream",
     "text": [
      "Enter verification code:  4/1AVHEtk5RMLFGPW4PHqO4XtgL93hS4TxSnA6V-JN9xs7fz6z3bSvHiLceFQ4\n"
     ]
    },
    {
     "name": "stdout",
     "output_type": "stream",
     "text": [
      "\n",
      "Successfully saved authorization token.\n"
     ]
    }
   ],
   "source": [
    "# Trigger the authentication flow.\n",
    "ee.Authenticate()\n",
    "\n",
    "# Initialize the library.\n",
    "ee.Initialize()"
   ]
  },
  {
   "cell_type": "code",
   "execution_count": 5,
   "metadata": {
    "id": "Z8V00RqQhzT6"
   },
   "outputs": [],
   "source": [
    "IMERG = ee.ImageCollection('NASA/GPM_L3/IMERG_V06')\n"
   ]
  },
  {
   "cell_type": "code",
   "execution_count": 17,
   "metadata": {
    "id": "jhoBd-aEPrD7"
   },
   "outputs": [],
   "source": [
    "# Initial date of interest (inclusive).\n",
    "i_date = '2010-01-01'\n",
    "# Final date of interest (exclusive).\n",
    "f_date = '2015-01-01'"
   ]
  },
  {
   "cell_type": "code",
   "execution_count": 18,
   "metadata": {
    "id": "hXO0RuP0iV09"
   },
   "outputs": [],
   "source": [
    "# Selection of appropriate bands and dates for precip\n",
    "selected_dates = IMERG.filterDate(i_date, f_date)\n",
    "\n",
    "precip_dates = selected_dates.select('precipitationCal')"
   ]
  },
  {
   "cell_type": "code",
   "execution_count": 19,
   "metadata": {
    "id": "OTVPztiYkdVb"
   },
   "outputs": [],
   "source": [
    "scale = 1000 #m?\n",
    "# Define the urban location of interest as a point near albany, NY\n",
    "u_lon = -74\n",
    "u_lat = 43\n",
    "u_poi = ee.Geometry.Point(u_lon, u_lat)"
   ]
  },
  {
   "cell_type": "code",
   "execution_count": 20,
   "metadata": {
    "id": "ubmicM17jcXL"
   },
   "outputs": [],
   "source": [
    "lst_data = precip_dates.getRegion(u_poi, scale).getInfo()"
   ]
  },
  {
   "cell_type": "code",
   "execution_count": 21,
   "metadata": {
    "id": "y3ZjD8zLklWi"
   },
   "outputs": [],
   "source": [
    "df = pd.DataFrame(data=lst_data[1:],columns=lst_data[0])"
   ]
  },
  {
   "cell_type": "code",
   "execution_count": 22,
   "metadata": {
    "id": "vmh4FBtGnNOt"
   },
   "outputs": [],
   "source": [
    "df.index = df.apply(lambda x: pd.Timestamp(f\"{x.id[:4]}-{x.id[4:6]}-{x.id[6:8]}\"),axis=1)"
   ]
  },
  {
   "cell_type": "code",
   "execution_count": 23,
   "metadata": {
    "id": "eHFaW3w-nn_W"
   },
   "outputs": [],
   "source": [
    "df.rename(columns={\"precipitationCal\":\"P\"},inplace=True)\n",
    "df[[\"P\"]].to_parquet(f\"{data_folder}\\\\P\\\\IMERG.parquet\")"
   ]
  },
  {
   "cell_type": "code",
   "execution_count": 24,
   "metadata": {},
   "outputs": [],
   "source": [
    "# repeat for MODIS evaporation data"
   ]
  },
  {
   "cell_type": "code",
   "execution_count": null,
   "metadata": {
    "id": "uVux2bpgmzbl"
   },
   "outputs": [],
   "source": [
    "MODIS = ee.ImageCollection(\"MODIS/006/MOD16A2\")\n",
    "selected_dates_MODIS = MODIS.filterDate(i_date, f_date)\n",
    "ET_dates = selected_dates_MODIS.select('ET')\n",
    "lst_data_modis = ET_dates.getRegion(u_poi, scale).getInfo()\n",
    "df_modis = pd.DataFrame(data=lst_data_modis[1:],columns=lst_data_modis[0])\n",
    "df_modis.index  = df_modis.apply(lambda x: pd.Timestamp(f\"{x.id[:4]}-{x.id[5:7]}-{x.id[8:10]}\"),axis=1)\n",
    "df_modis[[\"ET\"]].to_parquet(f\"{data_folder}\\\\EP\\\\MODIS.parquet\")"
   ]
  }
 ],
 "metadata": {
  "colab": {
   "provenance": []
  },
  "kernelspec": {
   "display_name": "Python 3 (ipykernel)",
   "language": "python",
   "name": "python3"
  },
  "language_info": {
   "codemirror_mode": {
    "name": "ipython",
    "version": 3
   },
   "file_extension": ".py",
   "mimetype": "text/x-python",
   "name": "python",
   "nbconvert_exporter": "python",
   "pygments_lexer": "ipython3",
   "version": "3.11.0"
  }
 },
 "nbformat": 4,
 "nbformat_minor": 4
}
