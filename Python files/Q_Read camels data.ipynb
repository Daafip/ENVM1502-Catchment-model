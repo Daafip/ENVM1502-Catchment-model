{
 "cells": [
  {
   "cell_type": "code",
   "execution_count": 3,
   "id": "080001c8",
   "metadata": {},
   "outputs": [],
   "source": [
    "import numpy as np\n",
    "import pandas as pd\n",
    "import os"
   ]
  },
  {
   "cell_type": "code",
   "execution_count": 5,
   "id": "46813040",
   "metadata": {},
   "outputs": [],
   "source": [
    "path = os.getcwd()\n",
    "home_path = os.path.dirname(path)\n",
    "gis_folder = f'{home_path}\\\\GIS'\n",
    "data_folder = f'{home_path}\\\\Data'\n",
    "camels_data_folder = f'{home_path}\\\\Data\\\\Camels'"
   ]
  },
  {
   "cell_type": "code",
   "execution_count": 8,
   "id": "3bfc5d15",
   "metadata": {},
   "outputs": [],
   "source": [
    "df_names = pd.read_csv(f\"{camels_data_folder}\\\\camels_name.txt\", delimiter=\";\")"
   ]
  },
  {
   "cell_type": "code",
   "execution_count": 9,
   "id": "e5acee26",
   "metadata": {},
   "outputs": [
    {
     "data": {
      "text/html": [
       "<div>\n",
       "<style scoped>\n",
       "    .dataframe tbody tr th:only-of-type {\n",
       "        vertical-align: middle;\n",
       "    }\n",
       "\n",
       "    .dataframe tbody tr th {\n",
       "        vertical-align: top;\n",
       "    }\n",
       "\n",
       "    .dataframe thead th {\n",
       "        text-align: right;\n",
       "    }\n",
       "</style>\n",
       "<table border=\"1\" class=\"dataframe\">\n",
       "  <thead>\n",
       "    <tr style=\"text-align: right;\">\n",
       "      <th></th>\n",
       "      <th>gauge_id</th>\n",
       "      <th>huc_02</th>\n",
       "      <th>gauge_name</th>\n",
       "    </tr>\n",
       "  </thead>\n",
       "  <tbody>\n",
       "    <tr>\n",
       "      <th>0</th>\n",
       "      <td>1013500</td>\n",
       "      <td>1</td>\n",
       "      <td>Fish River near Fort Kent, Maine</td>\n",
       "    </tr>\n",
       "    <tr>\n",
       "      <th>1</th>\n",
       "      <td>1022500</td>\n",
       "      <td>1</td>\n",
       "      <td>Narraguagus River at Cherryfield, Maine</td>\n",
       "    </tr>\n",
       "    <tr>\n",
       "      <th>2</th>\n",
       "      <td>1030500</td>\n",
       "      <td>1</td>\n",
       "      <td>Mattawamkeag River near Mattawamkeag, Maine</td>\n",
       "    </tr>\n",
       "    <tr>\n",
       "      <th>3</th>\n",
       "      <td>1031500</td>\n",
       "      <td>1</td>\n",
       "      <td>Piscataquis River near Dover-Foxcroft, Maine</td>\n",
       "    </tr>\n",
       "    <tr>\n",
       "      <th>4</th>\n",
       "      <td>1047000</td>\n",
       "      <td>1</td>\n",
       "      <td>Carrabassett River near North Anson, Maine</td>\n",
       "    </tr>\n",
       "    <tr>\n",
       "      <th>...</th>\n",
       "      <td>...</td>\n",
       "      <td>...</td>\n",
       "      <td>...</td>\n",
       "    </tr>\n",
       "    <tr>\n",
       "      <th>666</th>\n",
       "      <td>14309500</td>\n",
       "      <td>17</td>\n",
       "      <td>WEST FORK COW CREEK NEAR GLENDALE, OR</td>\n",
       "    </tr>\n",
       "    <tr>\n",
       "      <th>667</th>\n",
       "      <td>14316700</td>\n",
       "      <td>17</td>\n",
       "      <td>STEAMBOAT CREEK NEAR GLIDE, OR</td>\n",
       "    </tr>\n",
       "    <tr>\n",
       "      <th>668</th>\n",
       "      <td>14325000</td>\n",
       "      <td>17</td>\n",
       "      <td>SOUTH FORK COQUILLE RIVER AT POWERS, OR</td>\n",
       "    </tr>\n",
       "    <tr>\n",
       "      <th>669</th>\n",
       "      <td>14362250</td>\n",
       "      <td>17</td>\n",
       "      <td>STAR GULCH NEAR RUCH, OR.</td>\n",
       "    </tr>\n",
       "    <tr>\n",
       "      <th>670</th>\n",
       "      <td>14400000</td>\n",
       "      <td>17</td>\n",
       "      <td>CHETCO RIVER NEAR BROOKINGS, OR</td>\n",
       "    </tr>\n",
       "  </tbody>\n",
       "</table>\n",
       "<p>671 rows × 3 columns</p>\n",
       "</div>"
      ],
      "text/plain": [
       "     gauge_id  huc_02                                    gauge_name\n",
       "0     1013500       1              Fish River near Fort Kent, Maine\n",
       "1     1022500       1       Narraguagus River at Cherryfield, Maine\n",
       "2     1030500       1   Mattawamkeag River near Mattawamkeag, Maine\n",
       "3     1031500       1  Piscataquis River near Dover-Foxcroft, Maine\n",
       "4     1047000       1    Carrabassett River near North Anson, Maine\n",
       "..        ...     ...                                           ...\n",
       "666  14309500      17         WEST FORK COW CREEK NEAR GLENDALE, OR\n",
       "667  14316700      17                STEAMBOAT CREEK NEAR GLIDE, OR\n",
       "668  14325000      17       SOUTH FORK COQUILLE RIVER AT POWERS, OR\n",
       "669  14362250      17                     STAR GULCH NEAR RUCH, OR.\n",
       "670  14400000      17               CHETCO RIVER NEAR BROOKINGS, OR\n",
       "\n",
       "[671 rows x 3 columns]"
      ]
     },
     "execution_count": 9,
     "metadata": {},
     "output_type": "execute_result"
    }
   ],
   "source": [
    "df_names."
   ]
  },
  {
   "cell_type": "code",
   "execution_count": null,
   "id": "6a6e563d",
   "metadata": {},
   "outputs": [],
   "source": []
  }
 ],
 "metadata": {
  "kernelspec": {
   "display_name": "Python 3 (ipykernel)",
   "language": "python",
   "name": "python3"
  },
  "language_info": {
   "codemirror_mode": {
    "name": "ipython",
    "version": 3
   },
   "file_extension": ".py",
   "mimetype": "text/x-python",
   "name": "python",
   "nbconvert_exporter": "python",
   "pygments_lexer": "ipython3",
   "version": "3.10.6"
  }
 },
 "nbformat": 4,
 "nbformat_minor": 5
}
