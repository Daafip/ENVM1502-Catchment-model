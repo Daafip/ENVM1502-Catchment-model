{
 "cells": [
  {
   "cell_type": "code",
   "execution_count": 1,
   "id": "b7f06463-0607-4755-8ca8-7869805df76b",
   "metadata": {},
   "outputs": [],
   "source": [
    "import pandas as pd\n",
    "import numpy as np \n",
    "import matplotlib.pyplot as plt\n",
    "import glob\n",
    "import os"
   ]
  },
  {
   "cell_type": "code",
   "execution_count": 6,
   "id": "e84a8c75-7776-480d-9983-df298bfde331",
   "metadata": {},
   "outputs": [],
   "source": [
    "path = os.getcwd()\n",
    "home_path = os.path.dirname(path)\n",
    "data_folder = f'{home_path}\\\\Data\\\\Grace'\n"
   ]
  },
  {
   "cell_type": "code",
   "execution_count": 7,
   "id": "b427f476-b66d-4c0c-92bc-13e4d6b353b5",
   "metadata": {},
   "outputs": [
    {
     "data": {
      "text/plain": [
       "['C:\\\\Users\\\\anne-\\\\OneDrive - Delft University of Technology\\\\Documenten\\\\Environmental Engineering MSc\\\\ENVM1502-Catchment-model\\\\Data\\\\Grace\\\\CNESGRGS RL05 10d.txt',\n",
       " 'C:\\\\Users\\\\anne-\\\\OneDrive - Delft University of Technology\\\\Documenten\\\\Environmental Engineering MSc\\\\ENVM1502-Catchment-model\\\\Data\\\\Grace\\\\CNESGRGS RL05 monthly.txt',\n",
       " 'C:\\\\Users\\\\anne-\\\\OneDrive - Delft University of Technology\\\\Documenten\\\\Environmental Engineering MSc\\\\ENVM1502-Catchment-model\\\\Data\\\\Grace\\\\COST-G RL01 monthly.txt',\n",
       " 'C:\\\\Users\\\\anne-\\\\OneDrive - Delft University of Technology\\\\Documenten\\\\Environmental Engineering MSc\\\\ENVM1502-Catchment-model\\\\Data\\\\Grace\\\\JPL RL06 monthly solutions.txt']"
      ]
     },
     "execution_count": 7,
     "metadata": {},
     "output_type": "execute_result"
    }
   ],
   "source": [
    "files = glob.glob(f\"{data_folder}\\\\*.txt\")\n",
    "files"
   ]
  },
  {
   "cell_type": "code",
   "execution_count": null,
   "id": "9a154f84-6b68-4935-b459-0d23f9550700",
   "metadata": {},
   "outputs": [],
   "source": []
  }
 ],
 "metadata": {
  "kernelspec": {
   "display_name": "Python 3 (ipykernel)",
   "language": "python",
   "name": "python3"
  },
  "language_info": {
   "codemirror_mode": {
    "name": "ipython",
    "version": 3
   },
   "file_extension": ".py",
   "mimetype": "text/x-python",
   "name": "python",
   "nbconvert_exporter": "python",
   "pygments_lexer": "ipython3",
   "version": "3.11.2"
  }
 },
 "nbformat": 4,
 "nbformat_minor": 5
}
