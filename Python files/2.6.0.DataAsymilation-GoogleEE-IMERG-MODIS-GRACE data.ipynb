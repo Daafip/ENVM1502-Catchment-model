{
 "cells": [
  {
   "cell_type": "code",
   "execution_count": 42,
   "metadata": {
    "id": "a0O5iYfsmlEd"
   },
   "outputs": [],
   "source": [
    "import pandas as pd\n",
    "import ee\n",
    "import os"
   ]
  },
  {
   "cell_type": "code",
   "execution_count": 43,
   "metadata": {},
   "outputs": [],
   "source": [
    "path = os.getcwd()\n",
    "home_path = os.path.dirname(path)\n",
    "gis_folder = f'{home_path}\\\\GIS'\n",
    "data_folder = f'{home_path}\\\\Data'"
   ]
  },
  {
   "cell_type": "code",
   "execution_count": 44,
   "metadata": {
    "colab": {
     "base_uri": "https://localhost:8080/"
    },
    "id": "yxvmyre6huFJ",
    "outputId": "be29b636-3400-4c7b-f16c-5fe2e9b764b7"
   },
   "outputs": [
    {
     "data": {
      "text/html": [
       "<p>To authorize access needed by Earth Engine, open the following\n",
       "        URL in a web browser and follow the instructions:</p>\n",
       "        <p><a href=https://code.earthengine.google.com/client-auth?scopes=https%3A//www.googleapis.com/auth/earthengine%20https%3A//www.googleapis.com/auth/devstorage.full_control&request_id=yimbx1iYMuc2xyTC8KQoG0yZXBZBdsmSvpTP8UAbn6c&tc=_n_S9XRc7MxhfxgYnP3Ls2wtXI00WRCPO97P0v-f3N0&cc=hZd7cKEKOke_QipTM73DEZ7m7sCxpJMvWy_bJG0aVXE>https://code.earthengine.google.com/client-auth?scopes=https%3A//www.googleapis.com/auth/earthengine%20https%3A//www.googleapis.com/auth/devstorage.full_control&request_id=yimbx1iYMuc2xyTC8KQoG0yZXBZBdsmSvpTP8UAbn6c&tc=_n_S9XRc7MxhfxgYnP3Ls2wtXI00WRCPO97P0v-f3N0&cc=hZd7cKEKOke_QipTM73DEZ7m7sCxpJMvWy_bJG0aVXE</a></p>\n",
       "        <p>The authorization workflow will generate a code, which you should paste in the box below.</p>\n",
       "        "
      ],
      "text/plain": [
       "<IPython.core.display.HTML object>"
      ]
     },
     "metadata": {},
     "output_type": "display_data"
    },
    {
     "name": "stdin",
     "output_type": "stream",
     "text": [
      "Enter verification code:  4/1AVHEtk4COHIQ_HKP6Hf_TsLF2v6BUMdDntUclueKw9xhlFU5ixXRXKXDvMc\n"
     ]
    },
    {
     "name": "stdout",
     "output_type": "stream",
     "text": [
      "\n",
      "Successfully saved authorization token.\n"
     ]
    }
   ],
   "source": [
    "# Trigger the authentication flow.\n",
    "ee.Authenticate()\n",
    "\n",
    "# Initialize the library.\n",
    "ee.Initialize()"
   ]
  },
  {
   "cell_type": "code",
   "execution_count": 45,
   "metadata": {
    "id": "Z8V00RqQhzT6"
   },
   "outputs": [],
   "source": [
    "IMERG = ee.ImageCollection('NASA/GPM_L3/IMERG_V06')\n"
   ]
  },
  {
   "cell_type": "code",
   "execution_count": 46,
   "metadata": {
    "id": "jhoBd-aEPrD7"
   },
   "outputs": [],
   "source": [
    "# Initial date of interest (inclusive).\n",
    "i_date = '2010-01-01'\n",
    "# Final date of interest (exclusive).\n",
    "f_date = '2015-01-01'"
   ]
  },
  {
   "cell_type": "code",
   "execution_count": 47,
   "metadata": {
    "id": "hXO0RuP0iV09"
   },
   "outputs": [],
   "source": [
    "# Selection of appropriate bands and dates for precip\n",
    "selected_dates = IMERG.filterDate(i_date, f_date)\n",
    "\n",
    "precip_dates = selected_dates.select('precipitationCal')"
   ]
  },
  {
   "cell_type": "code",
   "execution_count": 48,
   "metadata": {
    "id": "OTVPztiYkdVb"
   },
   "outputs": [],
   "source": [
    "scale = 1000 #m?\n",
    "# Define the urban location of interest as a point near albany, NY\n",
    "u_lon = -74\n",
    "u_lat = 43\n",
    "u_poi = ee.Geometry.Point(u_lon, u_lat)"
   ]
  },
  {
   "cell_type": "code",
   "execution_count": 49,
   "metadata": {
    "id": "ubmicM17jcXL"
   },
   "outputs": [],
   "source": [
    "lst_data = precip_dates.getRegion(u_poi, scale).getInfo()"
   ]
  },
  {
   "cell_type": "code",
   "execution_count": 50,
   "metadata": {
    "id": "y3ZjD8zLklWi"
   },
   "outputs": [],
   "source": [
    "df = pd.DataFrame(data=lst_data[1:],columns=lst_data[0])"
   ]
  },
  {
   "cell_type": "code",
   "execution_count": 51,
   "metadata": {
    "id": "vmh4FBtGnNOt"
   },
   "outputs": [],
   "source": [
    "df.index = df.apply(lambda x: pd.Timestamp(f\"{x.id[:4]}-{x.id[4:6]}-{x.id[6:8]}\"),axis=1)"
   ]
  },
  {
   "cell_type": "code",
   "execution_count": 52,
   "metadata": {
    "id": "eHFaW3w-nn_W"
   },
   "outputs": [],
   "source": [
    "df.rename(columns={\"precipitationCal\":\"P\"},inplace=True)\n",
    "df[[\"P\"]].to_parquet(f\"{data_folder}\\\\P\\\\IMERG.parquet\")"
   ]
  },
  {
   "cell_type": "code",
   "execution_count": 53,
   "metadata": {},
   "outputs": [],
   "source": [
    "# repeat for MODIS evaporation data"
   ]
  },
  {
   "cell_type": "code",
   "execution_count": 54,
   "metadata": {
    "id": "uVux2bpgmzbl"
   },
   "outputs": [],
   "source": [
    "MODIS = ee.ImageCollection(\"MODIS/006/MOD16A2\")\n",
    "selected_dates_MODIS = MODIS.filterDate(i_date, f_date)\n",
    "ET_dates = selected_dates_MODIS.select('PET')\n",
    "lst_data_modis = ET_dates.getRegion(u_poi, scale).getInfo()\n",
    "df_modis = pd.DataFrame(data=lst_data_modis[1:],columns=lst_data_modis[0])\n",
    "df_modis.index  = df_modis.apply(lambda x: pd.Timestamp(f\"{x.id[:4]}-{x.id[5:7]}-{x.id[8:10]}\"),axis=1)\n",
    "df_modis[[\"PET\"]].to_parquet(f\"{data_folder}\\\\EP\\\\MODIS.parquet\")"
   ]
  },
  {
   "cell_type": "code",
   "execution_count": 55,
   "metadata": {},
   "outputs": [
    {
     "data": {
      "text/html": [
       "<div>\n",
       "<style scoped>\n",
       "    .dataframe tbody tr th:only-of-type {\n",
       "        vertical-align: middle;\n",
       "    }\n",
       "\n",
       "    .dataframe tbody tr th {\n",
       "        vertical-align: top;\n",
       "    }\n",
       "\n",
       "    .dataframe thead th {\n",
       "        text-align: right;\n",
       "    }\n",
       "</style>\n",
       "<table border=\"1\" class=\"dataframe\">\n",
       "  <thead>\n",
       "    <tr style=\"text-align: right;\">\n",
       "      <th></th>\n",
       "      <th>id</th>\n",
       "      <th>longitude</th>\n",
       "      <th>latitude</th>\n",
       "      <th>time</th>\n",
       "      <th>PET</th>\n",
       "    </tr>\n",
       "  </thead>\n",
       "  <tbody>\n",
       "    <tr>\n",
       "      <th>2010-01-01</th>\n",
       "      <td>2010_01_01</td>\n",
       "      <td>-73.998722</td>\n",
       "      <td>42.997861</td>\n",
       "      <td>1262304000000</td>\n",
       "      <td>NaN</td>\n",
       "    </tr>\n",
       "    <tr>\n",
       "      <th>2010-01-09</th>\n",
       "      <td>2010_01_09</td>\n",
       "      <td>-73.998722</td>\n",
       "      <td>42.997861</td>\n",
       "      <td>1262995200000</td>\n",
       "      <td>NaN</td>\n",
       "    </tr>\n",
       "    <tr>\n",
       "      <th>2010-01-17</th>\n",
       "      <td>2010_01_17</td>\n",
       "      <td>-73.998722</td>\n",
       "      <td>42.997861</td>\n",
       "      <td>1263686400000</td>\n",
       "      <td>NaN</td>\n",
       "    </tr>\n",
       "    <tr>\n",
       "      <th>2010-01-25</th>\n",
       "      <td>2010_01_25</td>\n",
       "      <td>-73.998722</td>\n",
       "      <td>42.997861</td>\n",
       "      <td>1264377600000</td>\n",
       "      <td>NaN</td>\n",
       "    </tr>\n",
       "    <tr>\n",
       "      <th>2010-02-02</th>\n",
       "      <td>2010_02_02</td>\n",
       "      <td>-73.998722</td>\n",
       "      <td>42.997861</td>\n",
       "      <td>1265068800000</td>\n",
       "      <td>NaN</td>\n",
       "    </tr>\n",
       "    <tr>\n",
       "      <th>...</th>\n",
       "      <td>...</td>\n",
       "      <td>...</td>\n",
       "      <td>...</td>\n",
       "      <td>...</td>\n",
       "      <td>...</td>\n",
       "    </tr>\n",
       "    <tr>\n",
       "      <th>2014-11-25</th>\n",
       "      <td>2014_11_25</td>\n",
       "      <td>-73.998722</td>\n",
       "      <td>42.997861</td>\n",
       "      <td>1416873600000</td>\n",
       "      <td>NaN</td>\n",
       "    </tr>\n",
       "    <tr>\n",
       "      <th>2014-12-03</th>\n",
       "      <td>2014_12_03</td>\n",
       "      <td>-73.998722</td>\n",
       "      <td>42.997861</td>\n",
       "      <td>1417564800000</td>\n",
       "      <td>NaN</td>\n",
       "    </tr>\n",
       "    <tr>\n",
       "      <th>2014-12-11</th>\n",
       "      <td>2014_12_11</td>\n",
       "      <td>-73.998722</td>\n",
       "      <td>42.997861</td>\n",
       "      <td>1418256000000</td>\n",
       "      <td>NaN</td>\n",
       "    </tr>\n",
       "    <tr>\n",
       "      <th>2014-12-19</th>\n",
       "      <td>2014_12_19</td>\n",
       "      <td>-73.998722</td>\n",
       "      <td>42.997861</td>\n",
       "      <td>1418947200000</td>\n",
       "      <td>36.0</td>\n",
       "    </tr>\n",
       "    <tr>\n",
       "      <th>2014-12-27</th>\n",
       "      <td>2014_12_27</td>\n",
       "      <td>-73.998722</td>\n",
       "      <td>42.997861</td>\n",
       "      <td>1419638400000</td>\n",
       "      <td>33.0</td>\n",
       "    </tr>\n",
       "  </tbody>\n",
       "</table>\n",
       "<p>230 rows × 5 columns</p>\n",
       "</div>"
      ],
      "text/plain": [
       "                    id  longitude   latitude           time   PET\n",
       "2010-01-01  2010_01_01 -73.998722  42.997861  1262304000000   NaN\n",
       "2010-01-09  2010_01_09 -73.998722  42.997861  1262995200000   NaN\n",
       "2010-01-17  2010_01_17 -73.998722  42.997861  1263686400000   NaN\n",
       "2010-01-25  2010_01_25 -73.998722  42.997861  1264377600000   NaN\n",
       "2010-02-02  2010_02_02 -73.998722  42.997861  1265068800000   NaN\n",
       "...                ...        ...        ...            ...   ...\n",
       "2014-11-25  2014_11_25 -73.998722  42.997861  1416873600000   NaN\n",
       "2014-12-03  2014_12_03 -73.998722  42.997861  1417564800000   NaN\n",
       "2014-12-11  2014_12_11 -73.998722  42.997861  1418256000000   NaN\n",
       "2014-12-19  2014_12_19 -73.998722  42.997861  1418947200000  36.0\n",
       "2014-12-27  2014_12_27 -73.998722  42.997861  1419638400000  33.0\n",
       "\n",
       "[230 rows x 5 columns]"
      ]
     },
     "execution_count": 55,
     "metadata": {},
     "output_type": "execute_result"
    }
   ],
   "source": [
    "df_modis"
   ]
  },
  {
   "cell_type": "markdown",
   "metadata": {},
   "source": [
    "repeat for GRACE"
   ]
  },
  {
   "cell_type": "code",
   "execution_count": 73,
   "metadata": {},
   "outputs": [],
   "source": [
    "GRACE = ee.ImageCollection(\"NASA/GRACE/MASS_GRIDS/MASCON_CRI\")\n",
    "selected_dates_GRACE = GRACE.filterDate(i_date, f_date)\n",
    "GRACE_dates = selected_dates_GRACE.select('lwe_thickness')\n",
    "lst_data_grace = GRACE_dates.getRegion(u_poi, scale).getInfo()\n",
    "df_grace = pd.DataFrame(data=lst_data_grace[1:],columns=lst_data_grace[0])\n",
    "df_grace.index  = df_grace.apply(lambda x: pd.Timestamp(f\"{x.id[:4]}-{x.id[4:6]}-{x.id[6:8]}\"),axis=1)\n",
    "df_grace[\"graceJPL\"] = df_grace[\"lwe_thickness\"]\n",
    "df_grace[[\"graceJPL\"]].to_parquet(f\"{data_folder}\\\\Grace\\\\GRACE.parquet\")"
   ]
  },
  {
   "cell_type": "code",
   "execution_count": 74,
   "metadata": {},
   "outputs": [],
   "source": [
    "GRACE_error = ee.ImageCollection(\"NASA/GRACE/MASS_GRIDS/MASCON_CRI\")\n",
    "selected_dates_GRACE_error = GRACE_error.filterDate(i_date, f_date)\n",
    "GRACE_error_dates = selected_dates_GRACE_error.select('uncertainty')\n",
    "lst_data_GRACE_error = GRACE_error_dates.getRegion(u_poi, scale).getInfo()\n",
    "df_GRACE_error = pd.DataFrame(data=lst_data_GRACE_error[1:],columns=lst_data_GRACE_error[0])\n",
    "df_GRACE_error.index  = df_GRACE_error.apply(lambda x: pd.Timestamp(f\"{x.id[:4]}-{x.id[4:6]}-{x.id[6:8]}\"),axis=1)\n",
    "df_GRACE_error[\"graceJPLerror\"] = df_GRACE_error[\"uncertainty\"]\n",
    "df_GRACE_error[[\"graceJPLerror\"]].to_parquet(f\"{data_folder}\\\\Grace\\\\GRACE_error.parquet\")"
   ]
  },
  {
   "cell_type": "code",
   "execution_count": null,
   "metadata": {},
   "outputs": [],
   "source": []
  }
 ],
 "metadata": {
  "colab": {
   "provenance": []
  },
  "kernelspec": {
   "display_name": "Python 3 (ipykernel)",
   "language": "python",
   "name": "python3"
  },
  "language_info": {
   "codemirror_mode": {
    "name": "ipython",
    "version": 3
   },
   "file_extension": ".py",
   "mimetype": "text/x-python",
   "name": "python",
   "nbconvert_exporter": "python",
   "pygments_lexer": "ipython3",
   "version": "3.11.0"
  }
 },
 "nbformat": 4,
 "nbformat_minor": 4
}
