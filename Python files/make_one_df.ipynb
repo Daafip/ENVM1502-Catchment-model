{
 "cells": [
  {
   "cell_type": "code",
   "execution_count": 59,
   "id": "b55bd1e5-a86b-48be-8849-4936f44859dd",
   "metadata": {},
   "outputs": [],
   "source": [
    "import pandas as pd\n",
    "import numpy as np\n",
    "import matplotlib.pyplot as plt\n",
    "import glob\n",
    "import os"
   ]
  },
  {
   "cell_type": "code",
   "execution_count": 60,
   "id": "23fa139b-fd82-44ee-b54b-98a19984b486",
   "metadata": {},
   "outputs": [],
   "source": [
    "path = os.getcwd()\n",
    "home_path = os.path.dirname(path)\n",
    "data_folder = f'{home_path}\\\\Data'"
   ]
  },
  {
   "cell_type": "code",
   "execution_count": 61,
   "id": "2d53a6c4-90f3-4ac1-a095-85465c3c3ed7",
   "metadata": {},
   "outputs": [
    {
     "data": {
      "text/plain": [
       "['C:\\\\Users\\\\anne-\\\\OneDrive - Delft University of Technology\\\\Documenten\\\\Environmental Engineering MSc\\\\ENVM1502-Catchment-model\\\\Data\\\\EP\\\\14733.0.parquet',\n",
       " 'C:\\\\Users\\\\anne-\\\\OneDrive - Delft University of Technology\\\\Documenten\\\\Environmental Engineering MSc\\\\ENVM1502-Catchment-model\\\\Data\\\\EP\\\\14735.0.parquet',\n",
       " 'C:\\\\Users\\\\anne-\\\\OneDrive - Delft University of Technology\\\\Documenten\\\\Environmental Engineering MSc\\\\ENVM1502-Catchment-model\\\\Data\\\\EP\\\\14768.0.parquet',\n",
       " 'C:\\\\Users\\\\anne-\\\\OneDrive - Delft University of Technology\\\\Documenten\\\\Environmental Engineering MSc\\\\ENVM1502-Catchment-model\\\\Data\\\\EP\\\\14771.0.parquet',\n",
       " 'C:\\\\Users\\\\anne-\\\\OneDrive - Delft University of Technology\\\\Documenten\\\\Environmental Engineering MSc\\\\ENVM1502-Catchment-model\\\\Data\\\\EP\\\\4725.0.parquet',\n",
       " 'C:\\\\Users\\\\anne-\\\\OneDrive - Delft University of Technology\\\\Documenten\\\\Environmental Engineering MSc\\\\ENVM1502-Catchment-model\\\\Data\\\\EP\\\\94725.0.parquet',\n",
       " 'C:\\\\Users\\\\anne-\\\\OneDrive - Delft University of Technology\\\\Documenten\\\\Environmental Engineering MSc\\\\ENVM1502-Catchment-model\\\\Data\\\\EP\\\\94728.0.parquet']"
      ]
     },
     "execution_count": 61,
     "metadata": {},
     "output_type": "execute_result"
    }
   ],
   "source": [
    "files_E = glob.glob(f\"{data_folder}\\\\EP\\\\*.parquet\")\n",
    "files_E"
   ]
  },
  {
   "cell_type": "code",
   "execution_count": 95,
   "id": "9ae08d8b-58c2-4dea-80c0-e727b0cc292f",
   "metadata": {},
   "outputs": [
    {
     "data": {
      "text/plain": [
       "Index(['1946-02-21', '1946-02-22', '1946-02-23', '1946-02-24', '1946-02-25',\n",
       "       '1946-02-26', '1946-02-27', '1946-02-28', '1946-03-01', '1946-03-02',\n",
       "       ...\n",
       "       '2023-03-25', '2023-03-26', '2023-03-27', '2023-03-28', '2023-03-29',\n",
       "       '2023-03-30', '2023-03-31', '2023-04-01', '2023-04-02', '2023-04-03'],\n",
       "      dtype='object', name='datetime', length=27204)"
      ]
     },
     "execution_count": 95,
     "metadata": {},
     "output_type": "execute_result"
    }
   ],
   "source": [
    "evap_lst = []\n",
    "for file in files_E:\n",
    "    evap_lst.append(pd.read_parquet(file))\n",
    "\n",
    "evap_concat = pd.concat(evap_lst, axis=1)\n",
    "evap = evap_concat.mean(axis=1).to_frame()\n",
    "evap.rename(columns={0:'pan_E'}, inplace=True)\n"
   ]
  },
  {
   "cell_type": "code",
   "execution_count": null,
   "id": "bfbf6c2e-1c68-4d33-9533-b805593904d7",
   "metadata": {},
   "outputs": [],
   "source": []
  },
  {
   "cell_type": "code",
   "execution_count": 83,
   "id": "7327ea7c-0198-41a8-976b-91060a05c0d8",
   "metadata": {},
   "outputs": [],
   "source": [
    "files_P = glob.glob(f\"{data_folder}\\\\P\\\\*.parquet\")\n",
    "files_P\n",
    "\n",
    "prcp = pd.read_parquet(files_P[0])"
   ]
  },
  {
   "cell_type": "code",
   "execution_count": 99,
   "id": "f07f8ab2-304d-49f8-a1c9-e9e50bf60b68",
   "metadata": {},
   "outputs": [
    {
     "data": {
      "text/plain": [
       "DatetimeIndex(['1946-02-21', '1946-02-22', '1946-02-23', '1946-02-24',\n",
       "               '1946-02-25', '1946-02-26', '1946-02-27', '1946-02-28',\n",
       "               '1946-03-01', '1946-03-02',\n",
       "               ...\n",
       "               '2023-03-25', '2023-03-26', '2023-03-27', '2023-03-28',\n",
       "               '2023-03-29', '2023-03-30', '2023-03-31', '2023-04-01',\n",
       "               '2023-04-02', '2023-04-03'],\n",
       "              dtype='datetime64[ns]', name='datetime', length=27204, freq=None)"
      ]
     },
     "execution_count": 99,
     "metadata": {},
     "output_type": "execute_result"
    }
   ],
   "source": [
    "files_Q = glob.glob(f\"{data_folder}\\\\Q\\\\*1358000.parquet\")\n",
    "files_Q\n",
    "\n",
    "discharge = pd.read_parquet(files_Q[0], columns=['Q_mm_d_hydro'])\n",
    "discharge.index = pd.to_datetime(discharge.index)\n",
    "discharge.rename(columns={'Q_mm_d_hydro':'Q'}, inplace=True)\n",
    "discharge.index"
   ]
  },
  {
   "cell_type": "code",
   "execution_count": 92,
   "id": "0332a6d4-7d75-4979-be94-ef7dc58ed69e",
   "metadata": {},
   "outputs": [
    {
     "data": {
      "text/plain": [
       "Index([1961-01-01 00:00:00, 1961-01-02 00:00:00, 1961-01-03 00:00:00,\n",
       "       1961-01-04 00:00:00, 1961-01-05 00:00:00, 1961-01-06 00:00:00,\n",
       "       1961-01-07 00:00:00, 1961-01-08 00:00:00, 1961-01-09 00:00:00,\n",
       "       1961-01-10 00:00:00,\n",
       "       ...\n",
       "              '2023-03-25',        '2023-03-26',        '2023-03-27',\n",
       "              '2023-03-28',        '2023-03-29',        '2023-03-30',\n",
       "              '2023-03-31',        '2023-04-01',        '2023-04-02',\n",
       "              '2023-04-03'],\n",
       "      dtype='object', length=87150)"
      ]
     },
     "execution_count": 92,
     "metadata": {},
     "output_type": "execute_result"
    }
   ],
   "source": [
    "df = pd.concat([evap, prcp, discharge])\n",
    "df.index\n"
   ]
  },
  {
   "cell_type": "code",
   "execution_count": 88,
   "id": "c398a7c8-c4ab-480f-b44e-b39deda11f3f",
   "metadata": {},
   "outputs": [],
   "source": [
    "df.to_parquet(f\"{data_folder}\\\\combined_data.parquet\")"
   ]
  },
  {
   "cell_type": "code",
   "execution_count": null,
   "id": "aba31eb5-37a5-4df6-a7a9-572d29d558f6",
   "metadata": {},
   "outputs": [],
   "source": []
  }
 ],
 "metadata": {
  "kernelspec": {
   "display_name": "Python 3 (ipykernel)",
   "language": "python",
   "name": "python3"
  },
  "language_info": {
   "codemirror_mode": {
    "name": "ipython",
    "version": 3
   },
   "file_extension": ".py",
   "mimetype": "text/x-python",
   "name": "python",
   "nbconvert_exporter": "python",
   "pygments_lexer": "ipython3",
   "version": "3.11.2"
  }
 },
 "nbformat": 4,
 "nbformat_minor": 5
}
