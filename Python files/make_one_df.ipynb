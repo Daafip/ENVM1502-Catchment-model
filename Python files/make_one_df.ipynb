{
 "cells": [
  {
   "cell_type": "code",
   "execution_count": 3,
   "id": "b55bd1e5-a86b-48be-8849-4936f44859dd",
   "metadata": {},
   "outputs": [],
   "source": [
    "import pandas as pd\n",
    "import numpy as np\n",
    "import matplotlib.pyplot as plt\n",
    "import glob\n",
    "import os"
   ]
  },
  {
   "cell_type": "code",
   "execution_count": 5,
   "id": "23fa139b-fd82-44ee-b54b-98a19984b486",
   "metadata": {},
   "outputs": [],
   "source": [
    "path = os.getcwd()\n",
    "home_path = os.path.dirname(path)\n",
    "data_folder = f'{home_path}\\\\Data'"
   ]
  },
  {
   "cell_type": "code",
   "execution_count": 54,
   "id": "cd76d525-d9e1-4ea7-8274-67e7994bc8b0",
   "metadata": {},
   "outputs": [],
   "source": [
    "files_E = glob.glob(f\"{data_folder}\\\\EP\\\\*.parquet\")\n",
    "files_E\n",
    "\n",
    "evap = pd.read_parquet(files_E[0])\n",
    "evap.rename(columns={'Pan Evaporation':'pan_E'}, inplace=True)"
   ]
  },
  {
   "cell_type": "code",
   "execution_count": 55,
   "id": "7327ea7c-0198-41a8-976b-91060a05c0d8",
   "metadata": {},
   "outputs": [],
   "source": [
    "files_P = glob.glob(f\"{data_folder}\\\\P\\\\*.parquet\")\n",
    "files_P\n",
    "\n",
    "prcp = pd.read_parquet(files_P[0])"
   ]
  },
  {
   "cell_type": "code",
   "execution_count": 56,
   "id": "f07f8ab2-304d-49f8-a1c9-e9e50bf60b68",
   "metadata": {},
   "outputs": [],
   "source": [
    "files_Q = glob.glob(f\"{data_folder}\\\\Q\\\\*1358000.parquet\")\n",
    "files_Q\n",
    "\n",
    "discharge = pd.read_parquet(files_Q[0], columns=['Q_mm_d_hydro'])\n",
    "discharge.rename(columns={'Q_mm_d_hydro':'Q'}, inplace=True)"
   ]
  },
  {
   "cell_type": "code",
   "execution_count": 57,
   "id": "0332a6d4-7d75-4979-be94-ef7dc58ed69e",
   "metadata": {},
   "outputs": [],
   "source": [
    "df = pd.concat([evap, prcp, discharge])\n"
   ]
  },
  {
   "cell_type": "code",
   "execution_count": 58,
   "id": "c398a7c8-c4ab-480f-b44e-b39deda11f3f",
   "metadata": {},
   "outputs": [],
   "source": [
    "df.to_parquet(f\"{data_folder}\\\\df_data.parquet\")"
   ]
  },
  {
   "cell_type": "code",
   "execution_count": null,
   "id": "aba31eb5-37a5-4df6-a7a9-572d29d558f6",
   "metadata": {},
   "outputs": [],
   "source": []
  }
 ],
 "metadata": {
  "kernelspec": {
   "display_name": "Python 3 (ipykernel)",
   "language": "python",
   "name": "python3"
  },
  "language_info": {
   "codemirror_mode": {
    "name": "ipython",
    "version": 3
   },
   "file_extension": ".py",
   "mimetype": "text/x-python",
   "name": "python",
   "nbconvert_exporter": "python",
   "pygments_lexer": "ipython3",
   "version": "3.11.2"
  }
 },
 "nbformat": 4,
 "nbformat_minor": 5
}
